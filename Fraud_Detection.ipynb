{
 "cells": [
  {
   "cell_type": "markdown",
   "metadata": {},
   "source": [
    "### Baseline"
   ]
  },
  {
   "cell_type": "code",
   "execution_count": 3,
   "metadata": {},
   "outputs": [
    {
     "name": "stdout",
     "output_type": "stream",
     "text": [
      "Requirement already satisfied: catboost==1.0.3 in c:\\users\\lenovo\\anaconda3\\lib\\site-packages (1.0.3)\n",
      "Requirement already satisfied: matplotlib in c:\\users\\lenovo\\anaconda3\\lib\\site-packages (from catboost==1.0.3) (3.3.2)\n",
      "Requirement already satisfied: six in c:\\users\\lenovo\\anaconda3\\lib\\site-packages (from catboost==1.0.3) (1.15.0)\n",
      "Requirement already satisfied: pandas>=0.24.0 in c:\\users\\lenovo\\anaconda3\\lib\\site-packages (from catboost==1.0.3) (1.1.3)\n",
      "Requirement already satisfied: graphviz in c:\\users\\lenovo\\anaconda3\\lib\\site-packages (from catboost==1.0.3) (0.19)\n",
      "Requirement already satisfied: numpy>=1.16.0 in c:\\users\\lenovo\\anaconda3\\lib\\site-packages (from catboost==1.0.3) (1.19.2)\n",
      "Requirement already satisfied: plotly in c:\\users\\lenovo\\anaconda3\\lib\\site-packages (from catboost==1.0.3) (5.4.0)\n",
      "Requirement already satisfied: scipy in c:\\users\\lenovo\\anaconda3\\lib\\site-packages (from catboost==1.0.3) (1.5.2)\n",
      "Requirement already satisfied: kiwisolver>=1.0.1 in c:\\users\\lenovo\\anaconda3\\lib\\site-packages (from matplotlib->catboost==1.0.3) (1.3.0)\n",
      "Requirement already satisfied: pillow>=6.2.0 in c:\\users\\lenovo\\anaconda3\\lib\\site-packages (from matplotlib->catboost==1.0.3) (8.0.1)\n",
      "Requirement already satisfied: certifi>=2020.06.20 in c:\\users\\lenovo\\anaconda3\\lib\\site-packages (from matplotlib->catboost==1.0.3) (2020.6.20)\n",
      "Requirement already satisfied: pyparsing!=2.0.4,!=2.1.2,!=2.1.6,>=2.0.3 in c:\\users\\lenovo\\anaconda3\\lib\\site-packages (from matplotlib->catboost==1.0.3) (2.4.7)\n",
      "Requirement already satisfied: python-dateutil>=2.1 in c:\\users\\lenovo\\anaconda3\\lib\\site-packages (from matplotlib->catboost==1.0.3) (2.8.1)\n",
      "Requirement already satisfied: cycler>=0.10 in c:\\users\\lenovo\\anaconda3\\lib\\site-packages (from matplotlib->catboost==1.0.3) (0.10.0)\n",
      "Requirement already satisfied: pytz>=2017.2 in c:\\users\\lenovo\\anaconda3\\lib\\site-packages (from pandas>=0.24.0->catboost==1.0.3) (2020.1)\n",
      "Requirement already satisfied: tenacity>=6.2.0 in c:\\users\\lenovo\\anaconda3\\lib\\site-packages (from plotly->catboost==1.0.3) (8.0.1)\n",
      "Collecting lightgbm==3.2.1\n",
      "  Downloading lightgbm-3.2.1-py3-none-win_amd64.whl (1.0 MB)\n",
      "Requirement already satisfied: numpy in c:\\users\\lenovo\\anaconda3\\lib\\site-packages (from lightgbm==3.2.1) (1.19.2)\n",
      "Requirement already satisfied: wheel in c:\\users\\lenovo\\anaconda3\\lib\\site-packages (from lightgbm==3.2.1) (0.35.1)\n",
      "Requirement already satisfied: scikit-learn!=0.22.0 in c:\\users\\lenovo\\anaconda3\\lib\\site-packages (from lightgbm==3.2.1) (0.23.2)\n",
      "Requirement already satisfied: scipy in c:\\users\\lenovo\\anaconda3\\lib\\site-packages (from lightgbm==3.2.1) (1.5.2)\n",
      "Requirement already satisfied: threadpoolctl>=2.0.0 in c:\\users\\lenovo\\anaconda3\\lib\\site-packages (from scikit-learn!=0.22.0->lightgbm==3.2.1) (2.1.0)\n",
      "Requirement already satisfied: joblib>=0.11 in c:\\users\\lenovo\\anaconda3\\lib\\site-packages (from scikit-learn!=0.22.0->lightgbm==3.2.1) (0.17.0)\n",
      "Installing collected packages: lightgbm\n",
      "Successfully installed lightgbm-3.2.1\n"
     ]
    }
   ],
   "source": [
    "!pip install catboost==1.0.3\n",
    "!pip install lightgbm==3.2.1"
   ]
  },
  {
   "cell_type": "code",
   "execution_count": 1,
   "metadata": {},
   "outputs": [],
   "source": [
    "import lightgbm as lgb\n",
    "import matplotlib.pyplot as plt\n",
    "import numpy as np\n",
    "import os\n",
    "import pandas as pd\n",
    "import seaborn as sns\n",
    "from sklearn.metrics import roc_auc_score\n",
    "from sklearn.preprocessing import LabelEncoder\n",
    "from tqdm import tqdm\n",
    "\n",
    "sns.set()"
   ]
  },
  {
   "cell_type": "code",
   "execution_count": 172,
   "metadata": {},
   "outputs": [],
   "source": [
    "import pandas as pd\n",
    "train_transaction = pd.read_csv('train_transaction.csv')\n",
    "train_identity = pd.read_csv('train_identity.csv')\n",
    "test_transaction = pd.read_csv('test_transaction.csv')\n",
    "test_identity = pd.read_csv('test_identity.csv')\n"
   ]
  },
  {
   "cell_type": "code",
   "execution_count": 173,
   "metadata": {},
   "outputs": [],
   "source": [
    "df_train = train_transaction.merge(train_identity, how='left', on='TransactionID')\n",
    "del train_transaction, train_identity\n",
    "\n",
    "df_test = test_transaction.merge(test_identity, how='left', on='TransactionID')\n",
    "del test_transaction, test_identity"
   ]
  },
  {
   "cell_type": "code",
   "execution_count": 174,
   "metadata": {},
   "outputs": [],
   "source": [
    "for col in df_train.columns.drop('isFraud'):\n",
    "    if df_train[col].dtype == 'O':\n",
    "        df_train[col] = df_train[col].fillna('unseen_category')\n",
    "        df_test[col] = df_test[col].fillna('unseen_category')\n",
    "    else:\n",
    "        df_train[col] = df_train[col].fillna(-1)\n",
    "        df_test[col] = df_test[col].fillna(-1)"
   ]
  },
  {
   "cell_type": "code",
   "execution_count": 175,
   "metadata": {},
   "outputs": [
    {
     "name": "stdout",
     "output_type": "stream",
     "text": [
      "Missing data in train: 0.00000%\n",
      "Missing data in test: 0.00000%\n"
     ]
    }
   ],
   "source": [
    "print('Missing data in train: {:.5f}%'.format(df_train.isnull().sum().sum() / (df_train.shape[0] * df_train.shape[1]) * 100))\n",
    "print('Missing data in test: {:.5f}%'.format(df_test.isnull().sum().sum() / (df_test.shape[0] * df_test.shape[1]) * 100))"
   ]
  },
  {
   "cell_type": "code",
   "execution_count": 176,
   "metadata": {},
   "outputs": [
    {
     "name": "stderr",
     "output_type": "stream",
     "text": [
      "100%|██████████| 433/433 [00:13<00:00, 31.72it/s]"
     ]
    },
    {
     "name": "stdout",
     "output_type": "stream",
     "text": [
      "<class 'pandas.core.frame.DataFrame'>\n",
      "Int64Index: 417559 entries, 0 to 417558\n",
      "Columns: 434 entries, TransactionID to DeviceInfo\n",
      "dtypes: category(31), float64(399), int64(4)\n",
      "memory usage: 1.3 GB\n",
      "<class 'pandas.core.frame.DataFrame'>\n",
      "Int64Index: 172981 entries, 0 to 172980\n",
      "Columns: 433 entries, TransactionID to DeviceInfo\n",
      "dtypes: category(31), float64(399), int64(3)\n",
      "memory usage: 537.4 MB\n"
     ]
    },
    {
     "name": "stderr",
     "output_type": "stream",
     "text": [
      "\n"
     ]
    },
    {
     "data": {
      "text/plain": [
       "(None, None)"
      ]
     },
     "execution_count": 176,
     "metadata": {},
     "output_type": "execute_result"
    }
   ],
   "source": [
    "for col in tqdm(df_train.columns.drop('isFraud')):\n",
    "    if df_train[col].dtype == 'O':\n",
    "        le = LabelEncoder()\n",
    "        le.fit(list(df_train[col]) + list(df_test[col]))\n",
    "        df_train[col] = le.transform(df_train[col])\n",
    "        df_test[col] = le.transform(df_test[col])\n",
    "        \n",
    "        df_train[col] = df_train[col].astype('category')\n",
    "        df_test[col] = df_test[col].astype('category')\n",
    "\n",
    "df_train.info(), df_test.info()"
   ]
  },
  {
   "cell_type": "code",
   "execution_count": 177,
   "metadata": {},
   "outputs": [],
   "source": [
    "month_length = 3600 * 24 * 30"
   ]
  },
  {
   "cell_type": "code",
   "execution_count": 178,
   "metadata": {},
   "outputs": [
    {
     "name": "stdout",
     "output_type": "stream",
     "text": [
      "Validation set 0 length: 134339\n",
      "Validation set 1 length: 89399\n",
      "Validation set 2 length: 92189\n",
      "Validation set 3 length: 101632\n"
     ]
    }
   ],
   "source": [
    "fold0_idx = df_train[df_train['TransactionDT'] < df_train['TransactionDT'].min() + month_length].index\n",
    "fold1_idx = df_train[(df_train['TransactionDT'].min() + month_length <= df_train['TransactionDT']) & (df_train['TransactionDT'] < df_train['TransactionDT'].min() + 2 * month_length)].index\n",
    "fold2_idx = df_train[(df_train['TransactionDT'].min() + 2 * month_length <= df_train['TransactionDT']) & (df_train['TransactionDT'] < df_train['TransactionDT'].min() + 3 * month_length)].index\n",
    "fold3_idx = df_train[df_train['TransactionDT'].min() + 3 * month_length <= df_train['TransactionDT']].index\n",
    "print('Validation set 0 length:', len(fold0_idx))\n",
    "print('Validation set 1 length:', len(fold1_idx))\n",
    "print('Validation set 2 length:', len(fold2_idx))\n",
    "print('Validation set 3 length:', len(fold3_idx))"
   ]
  },
  {
   "cell_type": "code",
   "execution_count": 179,
   "metadata": {},
   "outputs": [],
   "source": [
    "folds_idx = [fold0_idx, fold1_idx, fold2_idx, fold3_idx]"
   ]
  },
  {
   "cell_type": "code",
   "execution_count": 180,
   "metadata": {},
   "outputs": [
    {
     "data": {
      "text/plain": [
       "((417559, 432), (172981, 431))"
      ]
     },
     "execution_count": 180,
     "metadata": {},
     "output_type": "execute_result"
    }
   ],
   "source": [
    "df_train.drop(['TransactionID', 'TransactionDT'], axis=1, inplace=True)\n",
    "df_test.drop(['TransactionID', 'TransactionDT'], axis=1, inplace=True)\n",
    "df_train.shape, df_test.shape"
   ]
  },
  {
   "cell_type": "code",
   "execution_count": 181,
   "metadata": {},
   "outputs": [
    {
     "name": "stderr",
     "output_type": "stream",
     "text": [
      "C:\\Users\\Lenovo\\anaconda3\\lib\\site-packages\\lightgbm\\engine.py:148: UserWarning: Found `n_estimators` in params. Will use it instead of argument\n",
      "  _log_warning(\"Found `{}` in params. Will use it instead of argument\".format(alias))\n",
      "C:\\Users\\Lenovo\\anaconda3\\lib\\site-packages\\lightgbm\\engine.py:153: UserWarning: Found `early_stopping_rounds` in params. Will use it instead of argument\n",
      "  _log_warning(\"Found `{}` in params. Will use it instead of argument\".format(alias))\n"
     ]
    },
    {
     "name": "stdout",
     "output_type": "stream",
     "text": [
      "[LightGBM] [Info] Number of positive: 11320, number of negative: 271900\n",
      "[LightGBM] [Warning] Auto-choosing row-wise multi-threading, the overhead of testing was 0.292695 seconds.\n",
      "You can set `force_row_wise=true` to remove the overhead.\n",
      "And if memory is not enough, you can set `force_col_wise=true`.\n",
      "[LightGBM] [Info] Total Bins 31720\n",
      "[LightGBM] [Info] Number of data points in the train set: 283220, number of used features: 429\n"
     ]
    },
    {
     "name": "stderr",
     "output_type": "stream",
     "text": [
      "C:\\Users\\Lenovo\\anaconda3\\lib\\site-packages\\lightgbm\\basic.py:1433: UserWarning: Overriding the parameters from Reference Dataset.\n",
      "  _log_warning('Overriding the parameters from Reference Dataset.')\n",
      "C:\\Users\\Lenovo\\anaconda3\\lib\\site-packages\\lightgbm\\basic.py:1245: UserWarning: categorical_column in param dict is overridden.\n",
      "  _log_warning('{} in param dict is overridden.'.format(cat_alias))\n"
     ]
    },
    {
     "name": "stdout",
     "output_type": "stream",
     "text": [
      "[LightGBM] [Info] [binary:BoostFromScore]: pavg=0.039969 -> initscore=-3.178863\n",
      "[LightGBM] [Info] Start training from score -3.178863\n",
      "Training until validation scores don't improve for 200 rounds\n",
      "[100]\tvalid_0's auc: 0.886153\n",
      "[200]\tvalid_0's auc: 0.895165\n",
      "[300]\tvalid_0's auc: 0.898299\n",
      "[400]\tvalid_0's auc: 0.898691\n",
      "[500]\tvalid_0's auc: 0.899892\n",
      "[600]\tvalid_0's auc: 0.89946\n",
      "[700]\tvalid_0's auc: 0.899717\n",
      "Early stopping, best iteration is:\n",
      "[550]\tvalid_0's auc: 0.900222\n"
     ]
    },
    {
     "name": "stderr",
     "output_type": "stream",
     "text": [
      "C:\\Users\\Lenovo\\anaconda3\\lib\\site-packages\\lightgbm\\engine.py:148: UserWarning: Found `n_estimators` in params. Will use it instead of argument\n",
      "  _log_warning(\"Found `{}` in params. Will use it instead of argument\".format(alias))\n",
      "C:\\Users\\Lenovo\\anaconda3\\lib\\site-packages\\lightgbm\\engine.py:153: UserWarning: Found `early_stopping_rounds` in params. Will use it instead of argument\n",
      "  _log_warning(\"Found `{}` in params. Will use it instead of argument\".format(alias))\n"
     ]
    },
    {
     "name": "stdout",
     "output_type": "stream",
     "text": [
      "[LightGBM] [Info] Number of positive: 11144, number of negative: 317016\n",
      "[LightGBM] [Warning] Auto-choosing row-wise multi-threading, the overhead of testing was 0.543623 seconds.\n",
      "You can set `force_row_wise=true` to remove the overhead.\n",
      "And if memory is not enough, you can set `force_col_wise=true`.\n",
      "[LightGBM] [Info] Total Bins 34599\n",
      "[LightGBM] [Info] Number of data points in the train set: 328160, number of used features: 429\n"
     ]
    },
    {
     "name": "stderr",
     "output_type": "stream",
     "text": [
      "C:\\Users\\Lenovo\\anaconda3\\lib\\site-packages\\lightgbm\\basic.py:1433: UserWarning: Overriding the parameters from Reference Dataset.\n",
      "  _log_warning('Overriding the parameters from Reference Dataset.')\n",
      "C:\\Users\\Lenovo\\anaconda3\\lib\\site-packages\\lightgbm\\basic.py:1245: UserWarning: categorical_column in param dict is overridden.\n",
      "  _log_warning('{} in param dict is overridden.'.format(cat_alias))\n"
     ]
    },
    {
     "name": "stdout",
     "output_type": "stream",
     "text": [
      "[LightGBM] [Info] [binary:BoostFromScore]: pavg=0.033959 -> initscore=-3.348051\n",
      "[LightGBM] [Info] Start training from score -3.348051\n",
      "Training until validation scores don't improve for 200 rounds\n",
      "[100]\tvalid_0's auc: 0.912209\n",
      "[200]\tvalid_0's auc: 0.920382\n",
      "[300]\tvalid_0's auc: 0.924523\n",
      "[400]\tvalid_0's auc: 0.925763\n",
      "[500]\tvalid_0's auc: 0.926387\n",
      "[600]\tvalid_0's auc: 0.926487\n",
      "[700]\tvalid_0's auc: 0.924851\n",
      "Early stopping, best iteration is:\n",
      "[553]\tvalid_0's auc: 0.926804\n"
     ]
    },
    {
     "name": "stderr",
     "output_type": "stream",
     "text": [
      "C:\\Users\\Lenovo\\anaconda3\\lib\\site-packages\\lightgbm\\engine.py:148: UserWarning: Found `n_estimators` in params. Will use it instead of argument\n",
      "  _log_warning(\"Found `{}` in params. Will use it instead of argument\".format(alias))\n",
      "C:\\Users\\Lenovo\\anaconda3\\lib\\site-packages\\lightgbm\\engine.py:153: UserWarning: Found `early_stopping_rounds` in params. Will use it instead of argument\n",
      "  _log_warning(\"Found `{}` in params. Will use it instead of argument\".format(alias))\n"
     ]
    },
    {
     "name": "stdout",
     "output_type": "stream",
     "text": [
      "[LightGBM] [Info] Number of positive: 10997, number of negative: 314373\n",
      "[LightGBM] [Warning] Auto-choosing row-wise multi-threading, the overhead of testing was 0.528321 seconds.\n",
      "You can set `force_row_wise=true` to remove the overhead.\n",
      "And if memory is not enough, you can set `force_col_wise=true`.\n",
      "[LightGBM] [Info] Total Bins 34496\n",
      "[LightGBM] [Info] Number of data points in the train set: 325370, number of used features: 429\n"
     ]
    },
    {
     "name": "stderr",
     "output_type": "stream",
     "text": [
      "C:\\Users\\Lenovo\\anaconda3\\lib\\site-packages\\lightgbm\\basic.py:1433: UserWarning: Overriding the parameters from Reference Dataset.\n",
      "  _log_warning('Overriding the parameters from Reference Dataset.')\n",
      "C:\\Users\\Lenovo\\anaconda3\\lib\\site-packages\\lightgbm\\basic.py:1245: UserWarning: categorical_column in param dict is overridden.\n",
      "  _log_warning('{} in param dict is overridden.'.format(cat_alias))\n"
     ]
    },
    {
     "name": "stdout",
     "output_type": "stream",
     "text": [
      "[LightGBM] [Info] [binary:BoostFromScore]: pavg=0.033798 -> initscore=-3.352958\n",
      "[LightGBM] [Info] Start training from score -3.352958\n",
      "Training until validation scores don't improve for 200 rounds\n",
      "[100]\tvalid_0's auc: 0.914083\n",
      "[200]\tvalid_0's auc: 0.922216\n",
      "[300]\tvalid_0's auc: 0.921631\n",
      "Early stopping, best iteration is:\n",
      "[186]\tvalid_0's auc: 0.922673\n"
     ]
    },
    {
     "name": "stderr",
     "output_type": "stream",
     "text": [
      "C:\\Users\\Lenovo\\anaconda3\\lib\\site-packages\\lightgbm\\engine.py:148: UserWarning: Found `n_estimators` in params. Will use it instead of argument\n",
      "  _log_warning(\"Found `{}` in params. Will use it instead of argument\".format(alias))\n",
      "C:\\Users\\Lenovo\\anaconda3\\lib\\site-packages\\lightgbm\\engine.py:153: UserWarning: Found `early_stopping_rounds` in params. Will use it instead of argument\n",
      "  _log_warning(\"Found `{}` in params. Will use it instead of argument\".format(alias))\n"
     ]
    },
    {
     "name": "stdout",
     "output_type": "stream",
     "text": [
      "[LightGBM] [Info] Number of positive: 10702, number of negative: 305225\n",
      "[LightGBM] [Warning] Auto-choosing row-wise multi-threading, the overhead of testing was 0.559777 seconds.\n",
      "You can set `force_row_wise=true` to remove the overhead.\n",
      "And if memory is not enough, you can set `force_col_wise=true`.\n",
      "[LightGBM] [Info] Total Bins 34578\n",
      "[LightGBM] [Info] Number of data points in the train set: 315927, number of used features: 429\n"
     ]
    },
    {
     "name": "stderr",
     "output_type": "stream",
     "text": [
      "C:\\Users\\Lenovo\\anaconda3\\lib\\site-packages\\lightgbm\\basic.py:1433: UserWarning: Overriding the parameters from Reference Dataset.\n",
      "  _log_warning('Overriding the parameters from Reference Dataset.')\n",
      "C:\\Users\\Lenovo\\anaconda3\\lib\\site-packages\\lightgbm\\basic.py:1245: UserWarning: categorical_column in param dict is overridden.\n",
      "  _log_warning('{} in param dict is overridden.'.format(cat_alias))\n"
     ]
    },
    {
     "name": "stdout",
     "output_type": "stream",
     "text": [
      "[LightGBM] [Info] [binary:BoostFromScore]: pavg=0.033875 -> initscore=-3.350619\n",
      "[LightGBM] [Info] Start training from score -3.350619\n",
      "Training until validation scores don't improve for 200 rounds\n",
      "[100]\tvalid_0's auc: 0.8989\n",
      "[200]\tvalid_0's auc: 0.905456\n",
      "[300]\tvalid_0's auc: 0.904297\n",
      "Early stopping, best iteration is:\n",
      "[197]\tvalid_0's auc: 0.905589\n",
      "Fold 0, AUC-ROC: 0.90022\n",
      "Fold 1, AUC-ROC: 0.92680\n",
      "Fold 2, AUC-ROC: 0.92267\n",
      "Fold 3, AUC-ROC: 0.90559\n",
      "CV AUC-ROC: 0.91382\n",
      "Wall time: 3min 43s\n"
     ]
    }
   ],
   "source": [
    "%%time\n",
    "\n",
    "params = {\n",
    "    'objective': 'binary',\n",
    "    'boosting_type': 'gbdt',\n",
    "    'metric': 'auc',\n",
    "    'n_jobs': -1,\n",
    "    'n_estimators': 2000,\n",
    "    'seed': 13,\n",
    "    'early_stopping_rounds': 200,\n",
    "}\n",
    "\n",
    "scores = []\n",
    "\n",
    "feature_importances = pd.DataFrame()\n",
    "feature_importances['feature'] = df_train.columns.drop('isFraud')\n",
    "\n",
    "test_preds = []\n",
    "\n",
    "for i in range(len(folds_idx)):\n",
    "    X_train = df_train.drop(folds_idx[i], axis=0)\n",
    "    y_train = X_train['isFraud'].values\n",
    "    X_val = df_train.iloc[folds_idx[i]]\n",
    "    y_val = X_val['isFraud'].values\n",
    "    X_train = X_train.drop('isFraud', axis=1)\n",
    "    X_val = X_val.drop('isFraud', axis=1)\n",
    "\n",
    "    lgb_train = lgb.Dataset(X_train, y_train)\n",
    "    lgb_eval = lgb.Dataset(X_val, y_val, reference=lgb_train)\n",
    "    lgb_model = lgb.train(params, lgb_train, valid_sets=lgb_eval, verbose_eval=100)\n",
    "    \n",
    "    feature_importances['fold_{}'.format(i)] = lgb_model.feature_importance()\n",
    "\n",
    "    y_pred = lgb_model.predict(X_val)\n",
    "    score_fold = roc_auc_score(y_val, y_pred)\n",
    "    scores.append(score_fold)\n",
    "    y_test_pred = lgb_model.predict(df_test)\n",
    "    test_preds.append(y_test_pred)\n",
    "\n",
    "for i in range(len(scores)):\n",
    "    print('Fold {}, AUC-ROC: {:.5f}'.format(i, scores[i]))\n",
    "print('CV AUC-ROC: {:.5f}'.format(np.mean(scores)))"
   ]
  },
  {
   "cell_type": "code",
   "execution_count": 182,
   "metadata": {},
   "outputs": [
    {
     "data": {
      "text/html": [
       "<div>\n",
       "<style scoped>\n",
       "    .dataframe tbody tr th:only-of-type {\n",
       "        vertical-align: middle;\n",
       "    }\n",
       "\n",
       "    .dataframe tbody tr th {\n",
       "        vertical-align: top;\n",
       "    }\n",
       "\n",
       "    .dataframe thead th {\n",
       "        text-align: right;\n",
       "    }\n",
       "</style>\n",
       "<table border=\"1\" class=\"dataframe\">\n",
       "  <thead>\n",
       "    <tr style=\"text-align: right;\">\n",
       "      <th></th>\n",
       "      <th>feature</th>\n",
       "      <th>fold_0</th>\n",
       "      <th>fold_1</th>\n",
       "      <th>fold_2</th>\n",
       "      <th>fold_3</th>\n",
       "    </tr>\n",
       "  </thead>\n",
       "  <tbody>\n",
       "    <tr>\n",
       "      <th>0</th>\n",
       "      <td>TransactionAmt</td>\n",
       "      <td>836</td>\n",
       "      <td>790</td>\n",
       "      <td>206</td>\n",
       "      <td>195</td>\n",
       "    </tr>\n",
       "    <tr>\n",
       "      <th>1</th>\n",
       "      <td>ProductCD</td>\n",
       "      <td>32</td>\n",
       "      <td>37</td>\n",
       "      <td>30</td>\n",
       "      <td>34</td>\n",
       "    </tr>\n",
       "    <tr>\n",
       "      <th>2</th>\n",
       "      <td>card1</td>\n",
       "      <td>1021</td>\n",
       "      <td>1047</td>\n",
       "      <td>300</td>\n",
       "      <td>324</td>\n",
       "    </tr>\n",
       "    <tr>\n",
       "      <th>3</th>\n",
       "      <td>card2</td>\n",
       "      <td>862</td>\n",
       "      <td>783</td>\n",
       "      <td>221</td>\n",
       "      <td>223</td>\n",
       "    </tr>\n",
       "    <tr>\n",
       "      <th>4</th>\n",
       "      <td>card3</td>\n",
       "      <td>99</td>\n",
       "      <td>98</td>\n",
       "      <td>63</td>\n",
       "      <td>49</td>\n",
       "    </tr>\n",
       "  </tbody>\n",
       "</table>\n",
       "</div>"
      ],
      "text/plain": [
       "          feature  fold_0  fold_1  fold_2  fold_3\n",
       "0  TransactionAmt     836     790     206     195\n",
       "1       ProductCD      32      37      30      34\n",
       "2           card1    1021    1047     300     324\n",
       "3           card2     862     783     221     223\n",
       "4           card3      99      98      63      49"
      ]
     },
     "execution_count": 182,
     "metadata": {},
     "output_type": "execute_result"
    }
   ],
   "source": [
    "feature_importances.head()"
   ]
  },
  {
   "cell_type": "code",
   "execution_count": 183,
   "metadata": {},
   "outputs": [
    {
     "data": {
      "text/html": [
       "<div>\n",
       "<style scoped>\n",
       "    .dataframe tbody tr th:only-of-type {\n",
       "        vertical-align: middle;\n",
       "    }\n",
       "\n",
       "    .dataframe tbody tr th {\n",
       "        vertical-align: top;\n",
       "    }\n",
       "\n",
       "    .dataframe thead th {\n",
       "        text-align: right;\n",
       "    }\n",
       "</style>\n",
       "<table border=\"1\" class=\"dataframe\">\n",
       "  <thead>\n",
       "    <tr style=\"text-align: right;\">\n",
       "      <th></th>\n",
       "      <th>feature</th>\n",
       "      <th>fold_0</th>\n",
       "      <th>fold_1</th>\n",
       "      <th>fold_2</th>\n",
       "      <th>fold_3</th>\n",
       "      <th>average</th>\n",
       "    </tr>\n",
       "  </thead>\n",
       "  <tbody>\n",
       "    <tr>\n",
       "      <th>0</th>\n",
       "      <td>TransactionAmt</td>\n",
       "      <td>836</td>\n",
       "      <td>790</td>\n",
       "      <td>206</td>\n",
       "      <td>195</td>\n",
       "      <td>506.75</td>\n",
       "    </tr>\n",
       "    <tr>\n",
       "      <th>1</th>\n",
       "      <td>ProductCD</td>\n",
       "      <td>32</td>\n",
       "      <td>37</td>\n",
       "      <td>30</td>\n",
       "      <td>34</td>\n",
       "      <td>33.25</td>\n",
       "    </tr>\n",
       "    <tr>\n",
       "      <th>2</th>\n",
       "      <td>card1</td>\n",
       "      <td>1021</td>\n",
       "      <td>1047</td>\n",
       "      <td>300</td>\n",
       "      <td>324</td>\n",
       "      <td>673.00</td>\n",
       "    </tr>\n",
       "    <tr>\n",
       "      <th>3</th>\n",
       "      <td>card2</td>\n",
       "      <td>862</td>\n",
       "      <td>783</td>\n",
       "      <td>221</td>\n",
       "      <td>223</td>\n",
       "      <td>522.25</td>\n",
       "    </tr>\n",
       "    <tr>\n",
       "      <th>4</th>\n",
       "      <td>card3</td>\n",
       "      <td>99</td>\n",
       "      <td>98</td>\n",
       "      <td>63</td>\n",
       "      <td>49</td>\n",
       "      <td>77.25</td>\n",
       "    </tr>\n",
       "  </tbody>\n",
       "</table>\n",
       "</div>"
      ],
      "text/plain": [
       "          feature  fold_0  fold_1  fold_2  fold_3  average\n",
       "0  TransactionAmt     836     790     206     195   506.75\n",
       "1       ProductCD      32      37      30      34    33.25\n",
       "2           card1    1021    1047     300     324   673.00\n",
       "3           card2     862     783     221     223   522.25\n",
       "4           card3      99      98      63      49    77.25"
      ]
     },
     "execution_count": 183,
     "metadata": {},
     "output_type": "execute_result"
    }
   ],
   "source": [
    "fold_cols = [col for col in feature_importances.columns if col.startswith('fold_')]\n",
    "feature_importances['average'] = feature_importances[fold_cols].mean(axis=1)\n",
    "feature_importances.head()"
   ]
  },
  {
   "cell_type": "code",
   "execution_count": 184,
   "metadata": {
    "scrolled": true
   },
   "outputs": [
    {
     "data": {
      "image/png": "[encoded data removed]",
      "text/plain": [
       "<Figure size 1080x1080 with 1 Axes>"
      ]
     },
     "metadata": {},
     "output_type": "display_data"
    }
   ],
   "source": [
    "plt.figure(figsize=(15, 15))\n",
    "sns.barplot(data=feature_importances.sort_values(by='average', ascending=False).head(50), x='average', y='feature', palette=\"BuGn_r\")\n",
    "plt.title('Top feature importances')\n",
    "plt.show()"
   ]
  },
  {
   "cell_type": "code",
   "execution_count": 185,
   "metadata": {},
   "outputs": [
    {
     "data": {
      "text/plain": [
       "(431, 6)"
      ]
     },
     "execution_count": 185,
     "metadata": {},
     "output_type": "execute_result"
    }
   ],
   "source": [
    "feat = feature_importances.sort_values(by='average', ascending=False)\n",
    "feat.shape"
   ]
  },
  {
   "cell_type": "code",
   "execution_count": 186,
   "metadata": {},
   "outputs": [],
   "source": [
    "feat = feat['feature']\n",
    "for i in range(200):\n",
    "    feat.drop(labels=[i], axis=0, inplace = True)"
   ]
  },
  {
   "cell_type": "code",
   "execution_count": 187,
   "metadata": {},
   "outputs": [
    {
     "data": {
      "text/plain": [
       "231"
      ]
     },
     "execution_count": 187,
     "metadata": {},
     "output_type": "execute_result"
    }
   ],
   "source": [
    "feat = feat.tolist()\n",
    "len(feat)"
   ]
  },
  {
   "cell_type": "code",
   "execution_count": 188,
   "metadata": {},
   "outputs": [],
   "source": [
    "train_transaction = pd.read_csv('train_transaction.csv')\n",
    "train_identity = pd.read_csv('train_identity.csv')\n",
    "test_transaction = pd.read_csv('test_transaction.csv')\n",
    "test_identity = pd.read_csv('test_identity.csv')\n",
    "\n",
    "df_train = train_transaction.merge(train_identity, how='left', on='TransactionID')\n",
    "del train_transaction, train_identity\n",
    "\n",
    "df_test = test_transaction.merge(test_identity, how='left', on='TransactionID')\n",
    "del test_transaction, test_identity\n",
    "\n",
    "for col in df_train.columns.drop('isFraud'):\n",
    "    if df_train[col].dtype == 'O':\n",
    "        df_train[col] = df_train[col].fillna('unseen_category')\n",
    "        df_test[col] = df_test[col].fillna('unseen_category')\n",
    "    else:\n",
    "        df_train[col] = df_train[col].fillna(-1)\n",
    "        df_test[col] = df_test[col].fillna(-1)\n",
    "        \n"
   ]
  },
  {
   "cell_type": "code",
   "execution_count": 189,
   "metadata": {},
   "outputs": [
    {
     "name": "stderr",
     "output_type": "stream",
     "text": [
      "100%|██████████| 433/433 [00:14<00:00, 30.87it/s]"
     ]
    },
    {
     "name": "stdout",
     "output_type": "stream",
     "text": [
      "<class 'pandas.core.frame.DataFrame'>\n",
      "Int64Index: 417559 entries, 0 to 417558\n",
      "Columns: 434 entries, TransactionID to DeviceInfo\n",
      "dtypes: category(31), float64(399), int64(4)\n",
      "memory usage: 1.3 GB\n",
      "<class 'pandas.core.frame.DataFrame'>\n",
      "Int64Index: 172981 entries, 0 to 172980\n",
      "Columns: 433 entries, TransactionID to DeviceInfo\n",
      "dtypes: category(31), float64(399), int64(3)\n",
      "memory usage: 537.4 MB\n"
     ]
    },
    {
     "name": "stderr",
     "output_type": "stream",
     "text": [
      "\n"
     ]
    },
    {
     "data": {
      "text/plain": [
       "(None, None)"
      ]
     },
     "execution_count": 189,
     "metadata": {},
     "output_type": "execute_result"
    }
   ],
   "source": [
    "for col in tqdm(df_train.columns.drop('isFraud')):\n",
    "    if df_train[col].dtype == 'O':\n",
    "        le = LabelEncoder()\n",
    "        le.fit(list(df_train[col]) + list(df_test[col]))\n",
    "        df_train[col] = le.transform(df_train[col])\n",
    "        df_test[col] = le.transform(df_test[col])\n",
    "        \n",
    "        df_train[col] = df_train[col].astype('category')\n",
    "        df_test[col] = df_test[col].astype('category')\n",
    "\n",
    "df_train.info(), df_test.info()"
   ]
  },
  {
   "cell_type": "code",
   "execution_count": 190,
   "metadata": {},
   "outputs": [
    {
     "name": "stdout",
     "output_type": "stream",
     "text": [
      "Validation set 0 length: 134339\n",
      "Validation set 1 length: 89399\n",
      "Validation set 2 length: 92189\n",
      "Validation set 3 length: 101632\n"
     ]
    }
   ],
   "source": [
    "fold0_idx = df_train[df_train['TransactionDT'] < df_train['TransactionDT'].min() + month_length].index\n",
    "fold1_idx = df_train[(df_train['TransactionDT'].min() + month_length <= df_train['TransactionDT']) & (df_train['TransactionDT'] < df_train['TransactionDT'].min() + 2 * month_length)].index\n",
    "fold2_idx = df_train[(df_train['TransactionDT'].min() + 2 * month_length <= df_train['TransactionDT']) & (df_train['TransactionDT'] < df_train['TransactionDT'].min() + 3 * month_length)].index\n",
    "fold3_idx = df_train[df_train['TransactionDT'].min() + 3 * month_length <= df_train['TransactionDT']].index\n",
    "print('Validation set 0 length:', len(fold0_idx))\n",
    "print('Validation set 1 length:', len(fold1_idx))\n",
    "print('Validation set 2 length:', len(fold2_idx))\n",
    "print('Validation set 3 length:', len(fold3_idx))"
   ]
  },
  {
   "cell_type": "code",
   "execution_count": 191,
   "metadata": {},
   "outputs": [],
   "source": [
    "folds_idx = [fold0_idx, fold1_idx, fold2_idx, fold3_idx]"
   ]
  },
  {
   "cell_type": "code",
   "execution_count": 192,
   "metadata": {},
   "outputs": [],
   "source": [
    "df_train.drop(['TransactionID', 'TransactionDT'], axis=1, inplace=True)\n",
    "df_test.drop(['TransactionID', 'TransactionDT'], axis=1, inplace=True)"
   ]
  },
  {
   "cell_type": "code",
   "execution_count": 193,
   "metadata": {},
   "outputs": [],
   "source": [
    "for i in range(231):\n",
    "    df_train.drop([str(feat[i])], axis=1, inplace=True)\n",
    "    df_test.drop([str(feat[i])], axis=1, inplace=True)"
   ]
  },
  {
   "cell_type": "code",
   "execution_count": 194,
   "metadata": {},
   "outputs": [
    {
     "data": {
      "text/plain": [
       "(417559, 201)"
      ]
     },
     "execution_count": 194,
     "metadata": {},
     "output_type": "execute_result"
    }
   ],
   "source": [
    "df_train.shape"
   ]
  },
  {
   "cell_type": "markdown",
   "metadata": {},
   "source": [
    "#### Поэкспериментрируем с гиперпараметрами"
   ]
  },
  {
   "cell_type": "code",
   "execution_count": 196,
   "metadata": {},
   "outputs": [
    {
     "name": "stderr",
     "output_type": "stream",
     "text": [
      "C:\\Users\\Lenovo\\anaconda3\\lib\\site-packages\\lightgbm\\engine.py:148: UserWarning: Found `n_estimators` in params. Will use it instead of argument\n",
      "  _log_warning(\"Found `{}` in params. Will use it instead of argument\".format(alias))\n",
      "C:\\Users\\Lenovo\\anaconda3\\lib\\site-packages\\lightgbm\\engine.py:153: UserWarning: Found `early_stopping_rounds` in params. Will use it instead of argument\n",
      "  _log_warning(\"Found `{}` in params. Will use it instead of argument\".format(alias))\n"
     ]
    },
    {
     "name": "stdout",
     "output_type": "stream",
     "text": [
      "[LightGBM] [Info] Number of positive: 11320, number of negative: 271900\n",
      "[LightGBM] [Warning] Auto-choosing row-wise multi-threading, the overhead of testing was 0.142161 seconds.\n",
      "You can set `force_row_wise=true` to remove the overhead.\n",
      "And if memory is not enough, you can set `force_col_wise=true`.\n",
      "[LightGBM] [Info] Total Bins 12287\n",
      "[LightGBM] [Info] Number of data points in the train set: 283220, number of used features: 199\n"
     ]
    },
    {
     "name": "stderr",
     "output_type": "stream",
     "text": [
      "C:\\Users\\Lenovo\\anaconda3\\lib\\site-packages\\lightgbm\\basic.py:1433: UserWarning: Overriding the parameters from Reference Dataset.\n",
      "  _log_warning('Overriding the parameters from Reference Dataset.')\n",
      "C:\\Users\\Lenovo\\anaconda3\\lib\\site-packages\\lightgbm\\basic.py:1245: UserWarning: categorical_column in param dict is overridden.\n",
      "  _log_warning('{} in param dict is overridden.'.format(cat_alias))\n"
     ]
    },
    {
     "name": "stdout",
     "output_type": "stream",
     "text": [
      "[LightGBM] [Info] [binary:BoostFromScore]: pavg=0.039969 -> initscore=-3.178863\n",
      "[LightGBM] [Info] Start training from score -3.178863\n",
      "Training until validation scores don't improve for 200 rounds\n",
      "[100]\tvalid_0's auc: 0.882862\n",
      "[200]\tvalid_0's auc: 0.88878\n",
      "[300]\tvalid_0's auc: 0.892161\n",
      "[400]\tvalid_0's auc: 0.894377\n",
      "[500]\tvalid_0's auc: 0.894835\n",
      "[600]\tvalid_0's auc: 0.895632\n",
      "[700]\tvalid_0's auc: 0.895569\n",
      "[800]\tvalid_0's auc: 0.895075\n",
      "[900]\tvalid_0's auc: 0.893561\n",
      "Early stopping, best iteration is:\n",
      "[709]\tvalid_0's auc: 0.8959\n"
     ]
    },
    {
     "name": "stderr",
     "output_type": "stream",
     "text": [
      "C:\\Users\\Lenovo\\anaconda3\\lib\\site-packages\\lightgbm\\engine.py:148: UserWarning: Found `n_estimators` in params. Will use it instead of argument\n",
      "  _log_warning(\"Found `{}` in params. Will use it instead of argument\".format(alias))\n",
      "C:\\Users\\Lenovo\\anaconda3\\lib\\site-packages\\lightgbm\\engine.py:153: UserWarning: Found `early_stopping_rounds` in params. Will use it instead of argument\n",
      "  _log_warning(\"Found `{}` in params. Will use it instead of argument\".format(alias))\n"
     ]
    },
    {
     "name": "stdout",
     "output_type": "stream",
     "text": [
      "[LightGBM] [Info] Number of positive: 11144, number of negative: 317016\n",
      "[LightGBM] [Warning] Auto-choosing row-wise multi-threading, the overhead of testing was 0.190424 seconds.\n",
      "You can set `force_row_wise=true` to remove the overhead.\n",
      "And if memory is not enough, you can set `force_col_wise=true`.\n",
      "[LightGBM] [Info] Total Bins 13603\n",
      "[LightGBM] [Info] Number of data points in the train set: 328160, number of used features: 199\n"
     ]
    },
    {
     "name": "stderr",
     "output_type": "stream",
     "text": [
      "C:\\Users\\Lenovo\\anaconda3\\lib\\site-packages\\lightgbm\\basic.py:1433: UserWarning: Overriding the parameters from Reference Dataset.\n",
      "  _log_warning('Overriding the parameters from Reference Dataset.')\n",
      "C:\\Users\\Lenovo\\anaconda3\\lib\\site-packages\\lightgbm\\basic.py:1245: UserWarning: categorical_column in param dict is overridden.\n",
      "  _log_warning('{} in param dict is overridden.'.format(cat_alias))\n"
     ]
    },
    {
     "name": "stdout",
     "output_type": "stream",
     "text": [
      "[LightGBM] [Info] [binary:BoostFromScore]: pavg=0.033959 -> initscore=-3.348051\n",
      "[LightGBM] [Info] Start training from score -3.348051\n",
      "Training until validation scores don't improve for 200 rounds\n",
      "[100]\tvalid_0's auc: 0.913856\n",
      "[200]\tvalid_0's auc: 0.920731\n",
      "[300]\tvalid_0's auc: 0.924801\n",
      "[400]\tvalid_0's auc: 0.92537\n",
      "[500]\tvalid_0's auc: 0.926697\n",
      "[600]\tvalid_0's auc: 0.926914\n",
      "[700]\tvalid_0's auc: 0.926996\n",
      "[800]\tvalid_0's auc: 0.927059\n",
      "Early stopping, best iteration is:\n",
      "[610]\tvalid_0's auc: 0.927418\n"
     ]
    },
    {
     "name": "stderr",
     "output_type": "stream",
     "text": [
      "C:\\Users\\Lenovo\\anaconda3\\lib\\site-packages\\lightgbm\\engine.py:148: UserWarning: Found `n_estimators` in params. Will use it instead of argument\n",
      "  _log_warning(\"Found `{}` in params. Will use it instead of argument\".format(alias))\n",
      "C:\\Users\\Lenovo\\anaconda3\\lib\\site-packages\\lightgbm\\engine.py:153: UserWarning: Found `early_stopping_rounds` in params. Will use it instead of argument\n",
      "  _log_warning(\"Found `{}` in params. Will use it instead of argument\".format(alias))\n"
     ]
    },
    {
     "name": "stdout",
     "output_type": "stream",
     "text": [
      "[LightGBM] [Info] Number of positive: 10997, number of negative: 314373\n",
      "[LightGBM] [Warning] Auto-choosing row-wise multi-threading, the overhead of testing was 0.181631 seconds.\n",
      "You can set `force_row_wise=true` to remove the overhead.\n",
      "And if memory is not enough, you can set `force_col_wise=true`.\n",
      "[LightGBM] [Info] Total Bins 13606\n",
      "[LightGBM] [Info] Number of data points in the train set: 325370, number of used features: 199\n"
     ]
    },
    {
     "name": "stderr",
     "output_type": "stream",
     "text": [
      "C:\\Users\\Lenovo\\anaconda3\\lib\\site-packages\\lightgbm\\basic.py:1433: UserWarning: Overriding the parameters from Reference Dataset.\n",
      "  _log_warning('Overriding the parameters from Reference Dataset.')\n",
      "C:\\Users\\Lenovo\\anaconda3\\lib\\site-packages\\lightgbm\\basic.py:1245: UserWarning: categorical_column in param dict is overridden.\n",
      "  _log_warning('{} in param dict is overridden.'.format(cat_alias))\n"
     ]
    },
    {
     "name": "stdout",
     "output_type": "stream",
     "text": [
      "[LightGBM] [Info] [binary:BoostFromScore]: pavg=0.033798 -> initscore=-3.352958\n",
      "[LightGBM] [Info] Start training from score -3.352958\n",
      "Training until validation scores don't improve for 200 rounds\n",
      "[100]\tvalid_0's auc: 0.918109\n",
      "[200]\tvalid_0's auc: 0.923458\n",
      "[300]\tvalid_0's auc: 0.926115\n",
      "[400]\tvalid_0's auc: 0.926183\n",
      "[500]\tvalid_0's auc: 0.927131\n",
      "[600]\tvalid_0's auc: 0.926593\n",
      "Early stopping, best iteration is:\n",
      "[488]\tvalid_0's auc: 0.927182\n"
     ]
    },
    {
     "name": "stderr",
     "output_type": "stream",
     "text": [
      "C:\\Users\\Lenovo\\anaconda3\\lib\\site-packages\\lightgbm\\engine.py:148: UserWarning: Found `n_estimators` in params. Will use it instead of argument\n",
      "  _log_warning(\"Found `{}` in params. Will use it instead of argument\".format(alias))\n",
      "C:\\Users\\Lenovo\\anaconda3\\lib\\site-packages\\lightgbm\\engine.py:153: UserWarning: Found `early_stopping_rounds` in params. Will use it instead of argument\n",
      "  _log_warning(\"Found `{}` in params. Will use it instead of argument\".format(alias))\n"
     ]
    },
    {
     "name": "stdout",
     "output_type": "stream",
     "text": [
      "[LightGBM] [Info] Number of positive: 10702, number of negative: 305225\n",
      "[LightGBM] [Warning] Auto-choosing row-wise multi-threading, the overhead of testing was 0.197499 seconds.\n",
      "You can set `force_row_wise=true` to remove the overhead.\n",
      "And if memory is not enough, you can set `force_col_wise=true`.\n",
      "[LightGBM] [Info] Total Bins 13596\n",
      "[LightGBM] [Info] Number of data points in the train set: 315927, number of used features: 199\n"
     ]
    },
    {
     "name": "stderr",
     "output_type": "stream",
     "text": [
      "C:\\Users\\Lenovo\\anaconda3\\lib\\site-packages\\lightgbm\\basic.py:1433: UserWarning: Overriding the parameters from Reference Dataset.\n",
      "  _log_warning('Overriding the parameters from Reference Dataset.')\n",
      "C:\\Users\\Lenovo\\anaconda3\\lib\\site-packages\\lightgbm\\basic.py:1245: UserWarning: categorical_column in param dict is overridden.\n",
      "  _log_warning('{} in param dict is overridden.'.format(cat_alias))\n"
     ]
    },
    {
     "name": "stdout",
     "output_type": "stream",
     "text": [
      "[LightGBM] [Info] [binary:BoostFromScore]: pavg=0.033875 -> initscore=-3.350619\n",
      "[LightGBM] [Info] Start training from score -3.350619\n",
      "Training until validation scores don't improve for 200 rounds\n",
      "[100]\tvalid_0's auc: 0.898996\n",
      "[200]\tvalid_0's auc: 0.905224\n",
      "[300]\tvalid_0's auc: 0.905748\n",
      "[400]\tvalid_0's auc: 0.905648\n",
      "Early stopping, best iteration is:\n",
      "[241]\tvalid_0's auc: 0.906325\n",
      "Fold 0, AUC-ROC: 0.89590\n",
      "Fold 1, AUC-ROC: 0.92742\n",
      "Fold 2, AUC-ROC: 0.92718\n",
      "Fold 3, AUC-ROC: 0.90632\n",
      "CV AUC-ROC: 0.91421\n",
      "Wall time: 2min 33s\n"
     ]
    }
   ],
   "source": [
    "%%time\n",
    "\n",
    "params = {\n",
    "    'objective': 'binary',\n",
    "    'boosting_type': 'gbdt',\n",
    "    'metric': 'auc',\n",
    "    'n_jobs': -1,\n",
    "    'n_estimators': 2000,\n",
    "    'seed': 13,\n",
    "    'early_stopping_rounds': 200,\n",
    "}\n",
    "\n",
    "scores = []\n",
    "\n",
    "feature_importances = pd.DataFrame()\n",
    "feature_importances['feature'] = df_train.columns.drop('isFraud')\n",
    "\n",
    "test_preds = []\n",
    "\n",
    "for i in range(len(folds_idx)):\n",
    "    X_train = df_train.drop(folds_idx[i], axis=0)\n",
    "    y_train = X_train['isFraud'].values\n",
    "    X_val = df_train.iloc[folds_idx[i]]\n",
    "    y_val = X_val['isFraud'].values\n",
    "    X_train = X_train.drop('isFraud', axis=1)\n",
    "    X_val = X_val.drop('isFraud', axis=1)\n",
    "\n",
    "    lgb_train = lgb.Dataset(X_train, y_train)\n",
    "    lgb_eval = lgb.Dataset(X_val, y_val, reference=lgb_train)\n",
    "    lgb_model = lgb.train(params, lgb_train, valid_sets=lgb_eval, verbose_eval=100)\n",
    "    \n",
    "    feature_importances['fold_{}'.format(i)] = lgb_model.feature_importance()\n",
    "\n",
    "    y_pred = lgb_model.predict(X_val)\n",
    "    score_fold = roc_auc_score(y_val, y_pred)\n",
    "    scores.append(score_fold)\n",
    "    y_test_pred = lgb_model.predict(df_test)\n",
    "    test_preds.append(y_test_pred)\n",
    "\n",
    "for i in range(len(scores)):\n",
    "    print('Fold {}, AUC-ROC: {:.5f}'.format(i, scores[i]))\n",
    "print('CV AUC-ROC: {:.5f}'.format(np.mean(scores)))"
   ]
  },
  {
   "cell_type": "code",
   "execution_count": 197,
   "metadata": {},
   "outputs": [
    {
     "name": "stderr",
     "output_type": "stream",
     "text": [
      "C:\\Users\\Lenovo\\anaconda3\\lib\\site-packages\\lightgbm\\engine.py:148: UserWarning: Found `n_estimators` in params. Will use it instead of argument\n",
      "  _log_warning(\"Found `{}` in params. Will use it instead of argument\".format(alias))\n",
      "C:\\Users\\Lenovo\\anaconda3\\lib\\site-packages\\lightgbm\\engine.py:153: UserWarning: Found `early_stopping_rounds` in params. Will use it instead of argument\n",
      "  _log_warning(\"Found `{}` in params. Will use it instead of argument\".format(alias))\n"
     ]
    },
    {
     "name": "stdout",
     "output_type": "stream",
     "text": [
      "[LightGBM] [Info] Number of positive: 11320, number of negative: 271900\n",
      "[LightGBM] [Warning] Auto-choosing row-wise multi-threading, the overhead of testing was 0.143273 seconds.\n",
      "You can set `force_row_wise=true` to remove the overhead.\n",
      "And if memory is not enough, you can set `force_col_wise=true`.\n",
      "[LightGBM] [Info] Total Bins 12287\n",
      "[LightGBM] [Info] Number of data points in the train set: 283220, number of used features: 199\n"
     ]
    },
    {
     "name": "stderr",
     "output_type": "stream",
     "text": [
      "C:\\Users\\Lenovo\\anaconda3\\lib\\site-packages\\lightgbm\\basic.py:1433: UserWarning: Overriding the parameters from Reference Dataset.\n",
      "  _log_warning('Overriding the parameters from Reference Dataset.')\n",
      "C:\\Users\\Lenovo\\anaconda3\\lib\\site-packages\\lightgbm\\basic.py:1245: UserWarning: categorical_column in param dict is overridden.\n",
      "  _log_warning('{} in param dict is overridden.'.format(cat_alias))\n"
     ]
    },
    {
     "name": "stdout",
     "output_type": "stream",
     "text": [
      "[LightGBM] [Info] [binary:BoostFromScore]: pavg=0.039969 -> initscore=-3.178863\n",
      "[LightGBM] [Info] Start training from score -3.178863\n",
      "Training until validation scores don't improve for 200 rounds\n",
      "[100]\tvalid_0's auc: 0.882862\n",
      "[200]\tvalid_0's auc: 0.88878\n",
      "[300]\tvalid_0's auc: 0.892161\n",
      "[400]\tvalid_0's auc: 0.894377\n",
      "[500]\tvalid_0's auc: 0.894835\n",
      "[600]\tvalid_0's auc: 0.895632\n",
      "[700]\tvalid_0's auc: 0.895569\n",
      "[800]\tvalid_0's auc: 0.895075\n",
      "[900]\tvalid_0's auc: 0.893561\n",
      "Early stopping, best iteration is:\n",
      "[709]\tvalid_0's auc: 0.8959\n"
     ]
    },
    {
     "name": "stderr",
     "output_type": "stream",
     "text": [
      "C:\\Users\\Lenovo\\anaconda3\\lib\\site-packages\\lightgbm\\engine.py:148: UserWarning: Found `n_estimators` in params. Will use it instead of argument\n",
      "  _log_warning(\"Found `{}` in params. Will use it instead of argument\".format(alias))\n",
      "C:\\Users\\Lenovo\\anaconda3\\lib\\site-packages\\lightgbm\\engine.py:153: UserWarning: Found `early_stopping_rounds` in params. Will use it instead of argument\n",
      "  _log_warning(\"Found `{}` in params. Will use it instead of argument\".format(alias))\n"
     ]
    },
    {
     "name": "stdout",
     "output_type": "stream",
     "text": [
      "[LightGBM] [Info] Number of positive: 11144, number of negative: 317016\n",
      "[LightGBM] [Warning] Auto-choosing row-wise multi-threading, the overhead of testing was 0.188110 seconds.\n",
      "You can set `force_row_wise=true` to remove the overhead.\n",
      "And if memory is not enough, you can set `force_col_wise=true`.\n",
      "[LightGBM] [Info] Total Bins 13603\n",
      "[LightGBM] [Info] Number of data points in the train set: 328160, number of used features: 199\n"
     ]
    },
    {
     "name": "stderr",
     "output_type": "stream",
     "text": [
      "C:\\Users\\Lenovo\\anaconda3\\lib\\site-packages\\lightgbm\\basic.py:1433: UserWarning: Overriding the parameters from Reference Dataset.\n",
      "  _log_warning('Overriding the parameters from Reference Dataset.')\n",
      "C:\\Users\\Lenovo\\anaconda3\\lib\\site-packages\\lightgbm\\basic.py:1245: UserWarning: categorical_column in param dict is overridden.\n",
      "  _log_warning('{} in param dict is overridden.'.format(cat_alias))\n"
     ]
    },
    {
     "name": "stdout",
     "output_type": "stream",
     "text": [
      "[LightGBM] [Info] [binary:BoostFromScore]: pavg=0.033959 -> initscore=-3.348051\n",
      "[LightGBM] [Info] Start training from score -3.348051\n",
      "Training until validation scores don't improve for 200 rounds\n",
      "[100]\tvalid_0's auc: 0.913856\n",
      "[200]\tvalid_0's auc: 0.920731\n",
      "[300]\tvalid_0's auc: 0.924801\n",
      "[400]\tvalid_0's auc: 0.92537\n",
      "[500]\tvalid_0's auc: 0.926697\n",
      "[600]\tvalid_0's auc: 0.926914\n",
      "[700]\tvalid_0's auc: 0.926996\n",
      "[800]\tvalid_0's auc: 0.927059\n",
      "Early stopping, best iteration is:\n",
      "[610]\tvalid_0's auc: 0.927418\n"
     ]
    },
    {
     "name": "stderr",
     "output_type": "stream",
     "text": [
      "C:\\Users\\Lenovo\\anaconda3\\lib\\site-packages\\lightgbm\\engine.py:148: UserWarning: Found `n_estimators` in params. Will use it instead of argument\n",
      "  _log_warning(\"Found `{}` in params. Will use it instead of argument\".format(alias))\n",
      "C:\\Users\\Lenovo\\anaconda3\\lib\\site-packages\\lightgbm\\engine.py:153: UserWarning: Found `early_stopping_rounds` in params. Will use it instead of argument\n",
      "  _log_warning(\"Found `{}` in params. Will use it instead of argument\".format(alias))\n"
     ]
    },
    {
     "name": "stdout",
     "output_type": "stream",
     "text": [
      "[LightGBM] [Info] Number of positive: 10997, number of negative: 314373\n",
      "[LightGBM] [Warning] Auto-choosing row-wise multi-threading, the overhead of testing was 0.217136 seconds.\n",
      "You can set `force_row_wise=true` to remove the overhead.\n",
      "And if memory is not enough, you can set `force_col_wise=true`.\n",
      "[LightGBM] [Info] Total Bins 13606\n",
      "[LightGBM] [Info] Number of data points in the train set: 325370, number of used features: 199\n"
     ]
    },
    {
     "name": "stderr",
     "output_type": "stream",
     "text": [
      "C:\\Users\\Lenovo\\anaconda3\\lib\\site-packages\\lightgbm\\basic.py:1433: UserWarning: Overriding the parameters from Reference Dataset.\n",
      "  _log_warning('Overriding the parameters from Reference Dataset.')\n",
      "C:\\Users\\Lenovo\\anaconda3\\lib\\site-packages\\lightgbm\\basic.py:1245: UserWarning: categorical_column in param dict is overridden.\n",
      "  _log_warning('{} in param dict is overridden.'.format(cat_alias))\n"
     ]
    },
    {
     "name": "stdout",
     "output_type": "stream",
     "text": [
      "[LightGBM] [Info] [binary:BoostFromScore]: pavg=0.033798 -> initscore=-3.352958\n",
      "[LightGBM] [Info] Start training from score -3.352958\n",
      "Training until validation scores don't improve for 200 rounds\n",
      "[100]\tvalid_0's auc: 0.918109\n",
      "[200]\tvalid_0's auc: 0.923458\n",
      "[300]\tvalid_0's auc: 0.926115\n",
      "[400]\tvalid_0's auc: 0.926183\n",
      "[500]\tvalid_0's auc: 0.927131\n",
      "[600]\tvalid_0's auc: 0.926593\n",
      "Early stopping, best iteration is:\n",
      "[488]\tvalid_0's auc: 0.927182\n"
     ]
    },
    {
     "name": "stderr",
     "output_type": "stream",
     "text": [
      "C:\\Users\\Lenovo\\anaconda3\\lib\\site-packages\\lightgbm\\engine.py:148: UserWarning: Found `n_estimators` in params. Will use it instead of argument\n",
      "  _log_warning(\"Found `{}` in params. Will use it instead of argument\".format(alias))\n",
      "C:\\Users\\Lenovo\\anaconda3\\lib\\site-packages\\lightgbm\\engine.py:153: UserWarning: Found `early_stopping_rounds` in params. Will use it instead of argument\n",
      "  _log_warning(\"Found `{}` in params. Will use it instead of argument\".format(alias))\n"
     ]
    },
    {
     "name": "stdout",
     "output_type": "stream",
     "text": [
      "[LightGBM] [Info] Number of positive: 10702, number of negative: 305225\n",
      "[LightGBM] [Warning] Auto-choosing row-wise multi-threading, the overhead of testing was 0.194962 seconds.\n",
      "You can set `force_row_wise=true` to remove the overhead.\n",
      "And if memory is not enough, you can set `force_col_wise=true`.\n",
      "[LightGBM] [Info] Total Bins 13596\n",
      "[LightGBM] [Info] Number of data points in the train set: 315927, number of used features: 199\n"
     ]
    },
    {
     "name": "stderr",
     "output_type": "stream",
     "text": [
      "C:\\Users\\Lenovo\\anaconda3\\lib\\site-packages\\lightgbm\\basic.py:1433: UserWarning: Overriding the parameters from Reference Dataset.\n",
      "  _log_warning('Overriding the parameters from Reference Dataset.')\n",
      "C:\\Users\\Lenovo\\anaconda3\\lib\\site-packages\\lightgbm\\basic.py:1245: UserWarning: categorical_column in param dict is overridden.\n",
      "  _log_warning('{} in param dict is overridden.'.format(cat_alias))\n"
     ]
    },
    {
     "name": "stdout",
     "output_type": "stream",
     "text": [
      "[LightGBM] [Info] [binary:BoostFromScore]: pavg=0.033875 -> initscore=-3.350619\n",
      "[LightGBM] [Info] Start training from score -3.350619\n",
      "Training until validation scores don't improve for 200 rounds\n",
      "[100]\tvalid_0's auc: 0.898996\n",
      "[200]\tvalid_0's auc: 0.905224\n",
      "[300]\tvalid_0's auc: 0.905748\n",
      "[400]\tvalid_0's auc: 0.905648\n",
      "Early stopping, best iteration is:\n",
      "[241]\tvalid_0's auc: 0.906325\n",
      "Fold 0, AUC-ROC: 0.89590\n",
      "Fold 1, AUC-ROC: 0.92742\n",
      "Fold 2, AUC-ROC: 0.92718\n",
      "Fold 3, AUC-ROC: 0.90632\n",
      "CV AUC-ROC: 0.91421\n",
      "Wall time: 2min 46s\n"
     ]
    }
   ],
   "source": [
    "%%time\n",
    "\n",
    "#кол-во деревьев увеличено\n",
    "params = {\n",
    "    'objective': 'binary',\n",
    "    'boosting_type': 'gbdt',\n",
    "    'metric': 'auc',\n",
    "    'n_jobs': -1,\n",
    "    'n_estimators': 5000,\n",
    "    'seed': 13,\n",
    "    'early_stopping_rounds': 200,\n",
    "}\n",
    "\n",
    "scores = []\n",
    "\n",
    "feature_importances = pd.DataFrame()\n",
    "feature_importances['feature'] = df_train.columns.drop('isFraud')\n",
    "\n",
    "test_preds = []\n",
    "\n",
    "for i in range(len(folds_idx)):\n",
    "    X_train = df_train.drop(folds_idx[i], axis=0)\n",
    "    y_train = X_train['isFraud'].values\n",
    "    X_val = df_train.iloc[folds_idx[i]]\n",
    "    y_val = X_val['isFraud'].values\n",
    "    X_train = X_train.drop('isFraud', axis=1)\n",
    "    X_val = X_val.drop('isFraud', axis=1)\n",
    "\n",
    "    lgb_train = lgb.Dataset(X_train, y_train)\n",
    "    lgb_eval = lgb.Dataset(X_val, y_val, reference=lgb_train)\n",
    "    lgb_model = lgb.train(params, lgb_train, valid_sets=lgb_eval, verbose_eval=100)\n",
    "    \n",
    "    feature_importances['fold_{}'.format(i)] = lgb_model.feature_importance()\n",
    "\n",
    "    y_pred = lgb_model.predict(X_val)\n",
    "    score_fold = roc_auc_score(y_val, y_pred)\n",
    "    scores.append(score_fold)\n",
    "    y_test_pred = lgb_model.predict(df_test)\n",
    "    test_preds.append(y_test_pred)\n",
    "\n",
    "for i in range(len(scores)):\n",
    "    print('Fold {}, AUC-ROC: {:.5f}'.format(i, scores[i]))\n",
    "print('CV AUC-ROC: {:.5f}'.format(np.mean(scores)))"
   ]
  },
  {
   "cell_type": "code",
   "execution_count": 207,
   "metadata": {},
   "outputs": [
    {
     "name": "stderr",
     "output_type": "stream",
     "text": [
      "C:\\Users\\Lenovo\\anaconda3\\lib\\site-packages\\lightgbm\\engine.py:148: UserWarning: Found `n_estimators` in params. Will use it instead of argument\n",
      "  _log_warning(\"Found `{}` in params. Will use it instead of argument\".format(alias))\n",
      "C:\\Users\\Lenovo\\anaconda3\\lib\\site-packages\\lightgbm\\engine.py:153: UserWarning: Found `early_stopping_rounds` in params. Will use it instead of argument\n",
      "  _log_warning(\"Found `{}` in params. Will use it instead of argument\".format(alias))\n"
     ]
    },
    {
     "name": "stdout",
     "output_type": "stream",
     "text": [
      "[LightGBM] [Info] Number of positive: 11320, number of negative: 271900\n",
      "[LightGBM] [Warning] Auto-choosing row-wise multi-threading, the overhead of testing was 0.136192 seconds.\n",
      "You can set `force_row_wise=true` to remove the overhead.\n",
      "And if memory is not enough, you can set `force_col_wise=true`.\n",
      "[LightGBM] [Info] Total Bins 12287\n",
      "[LightGBM] [Info] Number of data points in the train set: 283220, number of used features: 199\n"
     ]
    },
    {
     "name": "stderr",
     "output_type": "stream",
     "text": [
      "C:\\Users\\Lenovo\\anaconda3\\lib\\site-packages\\lightgbm\\basic.py:1433: UserWarning: Overriding the parameters from Reference Dataset.\n",
      "  _log_warning('Overriding the parameters from Reference Dataset.')\n",
      "C:\\Users\\Lenovo\\anaconda3\\lib\\site-packages\\lightgbm\\basic.py:1245: UserWarning: categorical_column in param dict is overridden.\n",
      "  _log_warning('{} in param dict is overridden.'.format(cat_alias))\n"
     ]
    },
    {
     "name": "stdout",
     "output_type": "stream",
     "text": [
      "[LightGBM] [Info] [binary:BoostFromScore]: pavg=0.039969 -> initscore=-3.178863\n",
      "[LightGBM] [Info] Start training from score -3.178863\n",
      "Training until validation scores don't improve for 800 rounds\n",
      "[100]\tvalid_0's auc: 0.882862\n",
      "[200]\tvalid_0's auc: 0.88878\n",
      "[300]\tvalid_0's auc: 0.892161\n",
      "[400]\tvalid_0's auc: 0.894377\n",
      "[500]\tvalid_0's auc: 0.894835\n",
      "[600]\tvalid_0's auc: 0.895632\n",
      "[700]\tvalid_0's auc: 0.895569\n",
      "[800]\tvalid_0's auc: 0.895075\n",
      "[900]\tvalid_0's auc: 0.893561\n",
      "[1000]\tvalid_0's auc: 0.893336\n",
      "[1100]\tvalid_0's auc: 0.891409\n",
      "[1200]\tvalid_0's auc: 0.889862\n",
      "[1300]\tvalid_0's auc: 0.888431\n",
      "[1400]\tvalid_0's auc: 0.887517\n",
      "[1500]\tvalid_0's auc: 0.886887\n",
      "Early stopping, best iteration is:\n",
      "[709]\tvalid_0's auc: 0.8959\n"
     ]
    },
    {
     "name": "stderr",
     "output_type": "stream",
     "text": [
      "C:\\Users\\Lenovo\\anaconda3\\lib\\site-packages\\lightgbm\\engine.py:148: UserWarning: Found `n_estimators` in params. Will use it instead of argument\n",
      "  _log_warning(\"Found `{}` in params. Will use it instead of argument\".format(alias))\n",
      "C:\\Users\\Lenovo\\anaconda3\\lib\\site-packages\\lightgbm\\engine.py:153: UserWarning: Found `early_stopping_rounds` in params. Will use it instead of argument\n",
      "  _log_warning(\"Found `{}` in params. Will use it instead of argument\".format(alias))\n"
     ]
    },
    {
     "name": "stdout",
     "output_type": "stream",
     "text": [
      "[LightGBM] [Info] Number of positive: 11144, number of negative: 317016\n",
      "[LightGBM] [Warning] Auto-choosing row-wise multi-threading, the overhead of testing was 0.218157 seconds.\n",
      "You can set `force_row_wise=true` to remove the overhead.\n",
      "And if memory is not enough, you can set `force_col_wise=true`.\n",
      "[LightGBM] [Info] Total Bins 13603\n",
      "[LightGBM] [Info] Number of data points in the train set: 328160, number of used features: 199\n"
     ]
    },
    {
     "name": "stderr",
     "output_type": "stream",
     "text": [
      "C:\\Users\\Lenovo\\anaconda3\\lib\\site-packages\\lightgbm\\basic.py:1433: UserWarning: Overriding the parameters from Reference Dataset.\n",
      "  _log_warning('Overriding the parameters from Reference Dataset.')\n",
      "C:\\Users\\Lenovo\\anaconda3\\lib\\site-packages\\lightgbm\\basic.py:1245: UserWarning: categorical_column in param dict is overridden.\n",
      "  _log_warning('{} in param dict is overridden.'.format(cat_alias))\n"
     ]
    },
    {
     "name": "stdout",
     "output_type": "stream",
     "text": [
      "[LightGBM] [Info] [binary:BoostFromScore]: pavg=0.033959 -> initscore=-3.348051\n",
      "[LightGBM] [Info] Start training from score -3.348051\n",
      "Training until validation scores don't improve for 800 rounds\n",
      "[100]\tvalid_0's auc: 0.913856\n",
      "[200]\tvalid_0's auc: 0.920731\n",
      "[300]\tvalid_0's auc: 0.924801\n",
      "[400]\tvalid_0's auc: 0.92537\n",
      "[500]\tvalid_0's auc: 0.926697\n",
      "[600]\tvalid_0's auc: 0.926914\n",
      "[700]\tvalid_0's auc: 0.926996\n",
      "[800]\tvalid_0's auc: 0.927059\n",
      "[900]\tvalid_0's auc: 0.926911\n",
      "[1000]\tvalid_0's auc: 0.926898\n",
      "[1100]\tvalid_0's auc: 0.926341\n",
      "[1200]\tvalid_0's auc: 0.925957\n",
      "[1300]\tvalid_0's auc: 0.925463\n",
      "[1400]\tvalid_0's auc: 0.925239\n",
      "[1500]\tvalid_0's auc: 0.925008\n",
      "[1600]\tvalid_0's auc: 0.924588\n",
      "Early stopping, best iteration is:\n",
      "[843]\tvalid_0's auc: 0.927489\n"
     ]
    },
    {
     "name": "stderr",
     "output_type": "stream",
     "text": [
      "C:\\Users\\Lenovo\\anaconda3\\lib\\site-packages\\lightgbm\\engine.py:148: UserWarning: Found `n_estimators` in params. Will use it instead of argument\n",
      "  _log_warning(\"Found `{}` in params. Will use it instead of argument\".format(alias))\n",
      "C:\\Users\\Lenovo\\anaconda3\\lib\\site-packages\\lightgbm\\engine.py:153: UserWarning: Found `early_stopping_rounds` in params. Will use it instead of argument\n",
      "  _log_warning(\"Found `{}` in params. Will use it instead of argument\".format(alias))\n"
     ]
    },
    {
     "name": "stdout",
     "output_type": "stream",
     "text": [
      "[LightGBM] [Info] Number of positive: 10997, number of negative: 314373\n",
      "[LightGBM] [Warning] Auto-choosing row-wise multi-threading, the overhead of testing was 0.232605 seconds.\n",
      "You can set `force_row_wise=true` to remove the overhead.\n",
      "And if memory is not enough, you can set `force_col_wise=true`.\n",
      "[LightGBM] [Info] Total Bins 13606\n",
      "[LightGBM] [Info] Number of data points in the train set: 325370, number of used features: 199\n"
     ]
    },
    {
     "name": "stderr",
     "output_type": "stream",
     "text": [
      "C:\\Users\\Lenovo\\anaconda3\\lib\\site-packages\\lightgbm\\basic.py:1433: UserWarning: Overriding the parameters from Reference Dataset.\n",
      "  _log_warning('Overriding the parameters from Reference Dataset.')\n",
      "C:\\Users\\Lenovo\\anaconda3\\lib\\site-packages\\lightgbm\\basic.py:1245: UserWarning: categorical_column in param dict is overridden.\n",
      "  _log_warning('{} in param dict is overridden.'.format(cat_alias))\n"
     ]
    },
    {
     "name": "stdout",
     "output_type": "stream",
     "text": [
      "[LightGBM] [Info] [binary:BoostFromScore]: pavg=0.033798 -> initscore=-3.352958\n",
      "[LightGBM] [Info] Start training from score -3.352958\n",
      "Training until validation scores don't improve for 800 rounds\n",
      "[100]\tvalid_0's auc: 0.918109\n",
      "[200]\tvalid_0's auc: 0.923458\n",
      "[300]\tvalid_0's auc: 0.926115\n",
      "[400]\tvalid_0's auc: 0.926183\n",
      "[500]\tvalid_0's auc: 0.927131\n",
      "[600]\tvalid_0's auc: 0.926593\n",
      "[700]\tvalid_0's auc: 0.926029\n",
      "[800]\tvalid_0's auc: 0.925104\n",
      "[900]\tvalid_0's auc: 0.924856\n",
      "[1000]\tvalid_0's auc: 0.924126\n",
      "[1100]\tvalid_0's auc: 0.924301\n",
      "[1200]\tvalid_0's auc: 0.923481\n",
      "Early stopping, best iteration is:\n",
      "[488]\tvalid_0's auc: 0.927182\n"
     ]
    },
    {
     "name": "stderr",
     "output_type": "stream",
     "text": [
      "C:\\Users\\Lenovo\\anaconda3\\lib\\site-packages\\lightgbm\\engine.py:148: UserWarning: Found `n_estimators` in params. Will use it instead of argument\n",
      "  _log_warning(\"Found `{}` in params. Will use it instead of argument\".format(alias))\n",
      "C:\\Users\\Lenovo\\anaconda3\\lib\\site-packages\\lightgbm\\engine.py:153: UserWarning: Found `early_stopping_rounds` in params. Will use it instead of argument\n",
      "  _log_warning(\"Found `{}` in params. Will use it instead of argument\".format(alias))\n"
     ]
    },
    {
     "name": "stdout",
     "output_type": "stream",
     "text": [
      "[LightGBM] [Info] Number of positive: 10702, number of negative: 305225\n",
      "[LightGBM] [Warning] Auto-choosing row-wise multi-threading, the overhead of testing was 0.195839 seconds.\n",
      "You can set `force_row_wise=true` to remove the overhead.\n",
      "And if memory is not enough, you can set `force_col_wise=true`.\n",
      "[LightGBM] [Info] Total Bins 13596\n",
      "[LightGBM] [Info] Number of data points in the train set: 315927, number of used features: 199\n"
     ]
    },
    {
     "name": "stderr",
     "output_type": "stream",
     "text": [
      "C:\\Users\\Lenovo\\anaconda3\\lib\\site-packages\\lightgbm\\basic.py:1433: UserWarning: Overriding the parameters from Reference Dataset.\n",
      "  _log_warning('Overriding the parameters from Reference Dataset.')\n",
      "C:\\Users\\Lenovo\\anaconda3\\lib\\site-packages\\lightgbm\\basic.py:1245: UserWarning: categorical_column in param dict is overridden.\n",
      "  _log_warning('{} in param dict is overridden.'.format(cat_alias))\n"
     ]
    },
    {
     "name": "stdout",
     "output_type": "stream",
     "text": [
      "[LightGBM] [Info] [binary:BoostFromScore]: pavg=0.033875 -> initscore=-3.350619\n",
      "[LightGBM] [Info] Start training from score -3.350619\n",
      "Training until validation scores don't improve for 800 rounds\n",
      "[100]\tvalid_0's auc: 0.898996\n",
      "[200]\tvalid_0's auc: 0.905224\n",
      "[300]\tvalid_0's auc: 0.905748\n",
      "[400]\tvalid_0's auc: 0.905648\n",
      "[500]\tvalid_0's auc: 0.904909\n",
      "[600]\tvalid_0's auc: 0.904057\n",
      "[700]\tvalid_0's auc: 0.904024\n",
      "[800]\tvalid_0's auc: 0.903643\n",
      "[900]\tvalid_0's auc: 0.901855\n",
      "[1000]\tvalid_0's auc: 0.901061\n",
      "Early stopping, best iteration is:\n",
      "[241]\tvalid_0's auc: 0.906325\n",
      "Fold 0, AUC-ROC: 0.89590\n",
      "Fold 1, AUC-ROC: 0.92749\n",
      "Fold 2, AUC-ROC: 0.92718\n",
      "Fold 3, AUC-ROC: 0.90632\n",
      "CV AUC-ROC: 0.91422\n",
      "Wall time: 5min 13s\n"
     ]
    }
   ],
   "source": [
    "%%time\n",
    "\n",
    "#увеличен early_stopping_rounds\n",
    "params = {\n",
    "    'objective': 'binary',\n",
    "    'boosting_type': 'gbdt',\n",
    "    'metric': 'auc',\n",
    "    'n_jobs': -1,\n",
    "    'n_estimators': 5000,\n",
    "    'seed': 13,\n",
    "    'learning_rate': 0.1,\n",
    "    'early_stopping_rounds': 800,\n",
    "}\n",
    "\n",
    "scores = []\n",
    "\n",
    "feature_importances = pd.DataFrame()\n",
    "feature_importances['feature'] = df_train.columns.drop('isFraud')\n",
    "\n",
    "test_preds = []\n",
    "\n",
    "for i in range(len(folds_idx)):\n",
    "    X_train = df_train.drop(folds_idx[i], axis=0)\n",
    "    y_train = X_train['isFraud'].values\n",
    "    X_val = df_train.iloc[folds_idx[i]]\n",
    "    y_val = X_val['isFraud'].values\n",
    "    X_train = X_train.drop('isFraud', axis=1)\n",
    "    X_val = X_val.drop('isFraud', axis=1)\n",
    "\n",
    "    lgb_train = lgb.Dataset(X_train, y_train)\n",
    "    lgb_eval = lgb.Dataset(X_val, y_val, reference=lgb_train)\n",
    "    lgb_model = lgb.train(params, lgb_train, valid_sets=lgb_eval, verbose_eval=100)\n",
    "    \n",
    "    feature_importances['fold_{}'.format(i)] = lgb_model.feature_importance()\n",
    "\n",
    "    y_pred = lgb_model.predict(X_val)\n",
    "    score_fold = roc_auc_score(y_val, y_pred)\n",
    "    scores.append(score_fold)\n",
    "    y_test_pred = lgb_model.predict(df_test)\n",
    "    test_preds.append(y_test_pred)\n",
    "\n",
    "for i in range(len(scores)):\n",
    "    print('Fold {}, AUC-ROC: {:.5f}'.format(i, scores[i]))\n",
    "print('CV AUC-ROC: {:.5f}'.format(np.mean(scores)))"
   ]
  },
  {
   "cell_type": "code",
   "execution_count": 218,
   "metadata": {},
   "outputs": [],
   "source": [
    "#эти изменения не дали плодов"
   ]
  },
  {
   "cell_type": "code",
   "execution_count": 212,
   "metadata": {},
   "outputs": [
    {
     "name": "stderr",
     "output_type": "stream",
     "text": [
      "C:\\Users\\Lenovo\\anaconda3\\lib\\site-packages\\lightgbm\\engine.py:148: UserWarning: Found `n_estimators` in params. Will use it instead of argument\n",
      "  _log_warning(\"Found `{}` in params. Will use it instead of argument\".format(alias))\n",
      "C:\\Users\\Lenovo\\anaconda3\\lib\\site-packages\\lightgbm\\engine.py:153: UserWarning: Found `early_stopping_rounds` in params. Will use it instead of argument\n",
      "  _log_warning(\"Found `{}` in params. Will use it instead of argument\".format(alias))\n"
     ]
    },
    {
     "name": "stdout",
     "output_type": "stream",
     "text": [
      "[LightGBM] [Info] Number of positive: 11320, number of negative: 271900\n",
      "[LightGBM] [Warning] Auto-choosing row-wise multi-threading, the overhead of testing was 0.150842 seconds.\n",
      "You can set `force_row_wise=true` to remove the overhead.\n",
      "And if memory is not enough, you can set `force_col_wise=true`.\n",
      "[LightGBM] [Info] Total Bins 12287\n",
      "[LightGBM] [Info] Number of data points in the train set: 283220, number of used features: 199\n",
      "[LightGBM] [Info] Using GOSS\n"
     ]
    },
    {
     "name": "stderr",
     "output_type": "stream",
     "text": [
      "C:\\Users\\Lenovo\\anaconda3\\lib\\site-packages\\lightgbm\\basic.py:1433: UserWarning: Overriding the parameters from Reference Dataset.\n",
      "  _log_warning('Overriding the parameters from Reference Dataset.')\n",
      "C:\\Users\\Lenovo\\anaconda3\\lib\\site-packages\\lightgbm\\basic.py:1245: UserWarning: categorical_column in param dict is overridden.\n",
      "  _log_warning('{} in param dict is overridden.'.format(cat_alias))\n"
     ]
    },
    {
     "name": "stdout",
     "output_type": "stream",
     "text": [
      "[LightGBM] [Info] [binary:BoostFromScore]: pavg=0.039969 -> initscore=-3.178863\n",
      "[LightGBM] [Info] Start training from score -3.178863\n",
      "Training until validation scores don't improve for 200 rounds\n",
      "[100]\tvalid_0's auc: 0.886609\n",
      "[200]\tvalid_0's auc: 0.894095\n",
      "[300]\tvalid_0's auc: 0.89698\n",
      "[400]\tvalid_0's auc: 0.899743\n",
      "[500]\tvalid_0's auc: 0.899472\n",
      "[600]\tvalid_0's auc: 0.899682\n",
      "Early stopping, best iteration is:\n",
      "[433]\tvalid_0's auc: 0.900429\n"
     ]
    },
    {
     "name": "stderr",
     "output_type": "stream",
     "text": [
      "C:\\Users\\Lenovo\\anaconda3\\lib\\site-packages\\lightgbm\\engine.py:148: UserWarning: Found `n_estimators` in params. Will use it instead of argument\n",
      "  _log_warning(\"Found `{}` in params. Will use it instead of argument\".format(alias))\n",
      "C:\\Users\\Lenovo\\anaconda3\\lib\\site-packages\\lightgbm\\engine.py:153: UserWarning: Found `early_stopping_rounds` in params. Will use it instead of argument\n",
      "  _log_warning(\"Found `{}` in params. Will use it instead of argument\".format(alias))\n"
     ]
    },
    {
     "name": "stdout",
     "output_type": "stream",
     "text": [
      "[LightGBM] [Info] Number of positive: 11144, number of negative: 317016\n",
      "[LightGBM] [Warning] Auto-choosing row-wise multi-threading, the overhead of testing was 0.176778 seconds.\n",
      "You can set `force_row_wise=true` to remove the overhead.\n",
      "And if memory is not enough, you can set `force_col_wise=true`.\n",
      "[LightGBM] [Info] Total Bins 13603\n",
      "[LightGBM] [Info] Number of data points in the train set: 328160, number of used features: 199\n",
      "[LightGBM] [Info] Using GOSS\n"
     ]
    },
    {
     "name": "stderr",
     "output_type": "stream",
     "text": [
      "C:\\Users\\Lenovo\\anaconda3\\lib\\site-packages\\lightgbm\\basic.py:1433: UserWarning: Overriding the parameters from Reference Dataset.\n",
      "  _log_warning('Overriding the parameters from Reference Dataset.')\n",
      "C:\\Users\\Lenovo\\anaconda3\\lib\\site-packages\\lightgbm\\basic.py:1245: UserWarning: categorical_column in param dict is overridden.\n",
      "  _log_warning('{} in param dict is overridden.'.format(cat_alias))\n"
     ]
    },
    {
     "name": "stdout",
     "output_type": "stream",
     "text": [
      "[LightGBM] [Info] [binary:BoostFromScore]: pavg=0.033959 -> initscore=-3.348051\n",
      "[LightGBM] [Info] Start training from score -3.348051\n",
      "Training until validation scores don't improve for 200 rounds\n",
      "[100]\tvalid_0's auc: 0.913651\n",
      "[200]\tvalid_0's auc: 0.922183\n",
      "[300]\tvalid_0's auc: 0.925589\n",
      "[400]\tvalid_0's auc: 0.92669\n",
      "[500]\tvalid_0's auc: 0.926983\n",
      "[600]\tvalid_0's auc: 0.927242\n",
      "[700]\tvalid_0's auc: 0.928026\n",
      "[800]\tvalid_0's auc: 0.928582\n",
      "[900]\tvalid_0's auc: 0.928482\n",
      "[1000]\tvalid_0's auc: 0.928755\n",
      "[1100]\tvalid_0's auc: 0.928728\n",
      "[1200]\tvalid_0's auc: 0.928473\n",
      "Early stopping, best iteration is:\n",
      "[1050]\tvalid_0's auc: 0.929293\n"
     ]
    },
    {
     "name": "stderr",
     "output_type": "stream",
     "text": [
      "C:\\Users\\Lenovo\\anaconda3\\lib\\site-packages\\lightgbm\\engine.py:148: UserWarning: Found `n_estimators` in params. Will use it instead of argument\n",
      "  _log_warning(\"Found `{}` in params. Will use it instead of argument\".format(alias))\n",
      "C:\\Users\\Lenovo\\anaconda3\\lib\\site-packages\\lightgbm\\engine.py:153: UserWarning: Found `early_stopping_rounds` in params. Will use it instead of argument\n",
      "  _log_warning(\"Found `{}` in params. Will use it instead of argument\".format(alias))\n"
     ]
    },
    {
     "name": "stdout",
     "output_type": "stream",
     "text": [
      "[LightGBM] [Info] Number of positive: 10997, number of negative: 314373\n",
      "[LightGBM] [Warning] Auto-choosing row-wise multi-threading, the overhead of testing was 0.199375 seconds.\n",
      "You can set `force_row_wise=true` to remove the overhead.\n",
      "And if memory is not enough, you can set `force_col_wise=true`.\n",
      "[LightGBM] [Info] Total Bins 13606\n",
      "[LightGBM] [Info] Number of data points in the train set: 325370, number of used features: 199\n",
      "[LightGBM] [Info] Using GOSS\n"
     ]
    },
    {
     "name": "stderr",
     "output_type": "stream",
     "text": [
      "C:\\Users\\Lenovo\\anaconda3\\lib\\site-packages\\lightgbm\\basic.py:1433: UserWarning: Overriding the parameters from Reference Dataset.\n",
      "  _log_warning('Overriding the parameters from Reference Dataset.')\n",
      "C:\\Users\\Lenovo\\anaconda3\\lib\\site-packages\\lightgbm\\basic.py:1245: UserWarning: categorical_column in param dict is overridden.\n",
      "  _log_warning('{} in param dict is overridden.'.format(cat_alias))\n"
     ]
    },
    {
     "name": "stdout",
     "output_type": "stream",
     "text": [
      "[LightGBM] [Info] [binary:BoostFromScore]: pavg=0.033798 -> initscore=-3.352958\n",
      "[LightGBM] [Info] Start training from score -3.352958\n",
      "Training until validation scores don't improve for 200 rounds\n",
      "[100]\tvalid_0's auc: 0.917822\n",
      "[200]\tvalid_0's auc: 0.926359\n",
      "[300]\tvalid_0's auc: 0.929163\n",
      "[400]\tvalid_0's auc: 0.929404\n",
      "[500]\tvalid_0's auc: 0.929518\n",
      "[600]\tvalid_0's auc: 0.929076\n",
      "Early stopping, best iteration is:\n",
      "[458]\tvalid_0's auc: 0.930409\n"
     ]
    },
    {
     "name": "stderr",
     "output_type": "stream",
     "text": [
      "C:\\Users\\Lenovo\\anaconda3\\lib\\site-packages\\lightgbm\\engine.py:148: UserWarning: Found `n_estimators` in params. Will use it instead of argument\n",
      "  _log_warning(\"Found `{}` in params. Will use it instead of argument\".format(alias))\n",
      "C:\\Users\\Lenovo\\anaconda3\\lib\\site-packages\\lightgbm\\engine.py:153: UserWarning: Found `early_stopping_rounds` in params. Will use it instead of argument\n",
      "  _log_warning(\"Found `{}` in params. Will use it instead of argument\".format(alias))\n"
     ]
    },
    {
     "name": "stdout",
     "output_type": "stream",
     "text": [
      "[LightGBM] [Info] Number of positive: 10702, number of negative: 305225\n",
      "[LightGBM] [Warning] Auto-choosing row-wise multi-threading, the overhead of testing was 0.190705 seconds.\n",
      "You can set `force_row_wise=true` to remove the overhead.\n",
      "And if memory is not enough, you can set `force_col_wise=true`.\n",
      "[LightGBM] [Info] Total Bins 13596\n",
      "[LightGBM] [Info] Number of data points in the train set: 315927, number of used features: 199\n",
      "[LightGBM] [Info] Using GOSS\n"
     ]
    },
    {
     "name": "stderr",
     "output_type": "stream",
     "text": [
      "C:\\Users\\Lenovo\\anaconda3\\lib\\site-packages\\lightgbm\\basic.py:1433: UserWarning: Overriding the parameters from Reference Dataset.\n",
      "  _log_warning('Overriding the parameters from Reference Dataset.')\n",
      "C:\\Users\\Lenovo\\anaconda3\\lib\\site-packages\\lightgbm\\basic.py:1245: UserWarning: categorical_column in param dict is overridden.\n",
      "  _log_warning('{} in param dict is overridden.'.format(cat_alias))\n"
     ]
    },
    {
     "name": "stdout",
     "output_type": "stream",
     "text": [
      "[LightGBM] [Info] [binary:BoostFromScore]: pavg=0.033875 -> initscore=-3.350619\n",
      "[LightGBM] [Info] Start training from score -3.350619\n",
      "Training until validation scores don't improve for 200 rounds\n",
      "[100]\tvalid_0's auc: 0.901413\n",
      "[200]\tvalid_0's auc: 0.908349\n",
      "[300]\tvalid_0's auc: 0.909643\n",
      "[400]\tvalid_0's auc: 0.911204\n",
      "[500]\tvalid_0's auc: 0.911082\n",
      "[600]\tvalid_0's auc: 0.910905\n",
      "[700]\tvalid_0's auc: 0.909871\n",
      "Early stopping, best iteration is:\n",
      "[573]\tvalid_0's auc: 0.911555\n",
      "Fold 0, AUC-ROC: 0.90043\n",
      "Fold 1, AUC-ROC: 0.92929\n",
      "Fold 2, AUC-ROC: 0.93041\n",
      "Fold 3, AUC-ROC: 0.91156\n",
      "CV AUC-ROC: 0.91792\n",
      "Wall time: 4min 14s\n"
     ]
    }
   ],
   "source": [
    "%%time\n",
    "#другой boosting_type\n",
    "params = {\n",
    "    'objective': 'binary',\n",
    "    'boosting_type': 'goss',\n",
    "    'metric': 'auc',\n",
    "    'n_jobs': -1,\n",
    "    'n_estimators': 2000,\n",
    "    'seed': 13,\n",
    "    'early_stopping_rounds': 200,\n",
    "}\n",
    "\n",
    "scores = []\n",
    "\n",
    "feature_importances = pd.DataFrame()\n",
    "feature_importances['feature'] = df_train.columns.drop('isFraud')\n",
    "\n",
    "test_preds = []\n",
    "\n",
    "for i in range(len(folds_idx)):\n",
    "    X_train = df_train.drop(folds_idx[i], axis=0)\n",
    "    y_train = X_train['isFraud'].values\n",
    "    X_val = df_train.iloc[folds_idx[i]]\n",
    "    y_val = X_val['isFraud'].values\n",
    "    X_train = X_train.drop('isFraud', axis=1)\n",
    "    X_val = X_val.drop('isFraud', axis=1)\n",
    "\n",
    "    lgb_train = lgb.Dataset(X_train, y_train)\n",
    "    lgb_eval = lgb.Dataset(X_val, y_val, reference=lgb_train)\n",
    "    lgb_model = lgb.train(params, lgb_train, valid_sets=lgb_eval, verbose_eval=100)\n",
    "    \n",
    "    feature_importances['fold_{}'.format(i)] = lgb_model.feature_importance()\n",
    "\n",
    "    y_pred = lgb_model.predict(X_val)\n",
    "    score_fold = roc_auc_score(y_val, y_pred)\n",
    "    scores.append(score_fold)\n",
    "    y_test_pred = lgb_model.predict(df_test)\n",
    "    test_preds.append(y_test_pred)\n",
    "\n",
    "for i in range(len(scores)):\n",
    "    print('Fold {}, AUC-ROC: {:.5f}'.format(i, scores[i]))\n",
    "print('CV AUC-ROC: {:.5f}'.format(np.mean(scores)))"
   ]
  },
  {
   "cell_type": "code",
   "execution_count": 237,
   "metadata": {},
   "outputs": [
    {
     "name": "stderr",
     "output_type": "stream",
     "text": [
      "C:\\Users\\Lenovo\\anaconda3\\lib\\site-packages\\lightgbm\\engine.py:148: UserWarning: Found `n_estimators` in params. Will use it instead of argument\n",
      "  _log_warning(\"Found `{}` in params. Will use it instead of argument\".format(alias))\n",
      "C:\\Users\\Lenovo\\anaconda3\\lib\\site-packages\\lightgbm\\engine.py:153: UserWarning: Found `early_stopping_rounds` in params. Will use it instead of argument\n",
      "  _log_warning(\"Found `{}` in params. Will use it instead of argument\".format(alias))\n"
     ]
    },
    {
     "name": "stdout",
     "output_type": "stream",
     "text": [
      "[LightGBM] [Warning] Accuracy may be bad since you didn't explicitly set num_leaves OR 2^max_depth > num_leaves. (num_leaves=31).\n",
      "[LightGBM] [Warning] Accuracy may be bad since you didn't explicitly set num_leaves OR 2^max_depth > num_leaves. (num_leaves=31).\n",
      "[LightGBM] [Info] Number of positive: 11320, number of negative: 271900\n",
      "[LightGBM] [Warning] Auto-choosing row-wise multi-threading, the overhead of testing was 0.144486 seconds.\n",
      "You can set `force_row_wise=true` to remove the overhead.\n",
      "And if memory is not enough, you can set `force_col_wise=true`.\n",
      "[LightGBM] [Info] Total Bins 12287\n",
      "[LightGBM] [Info] Number of data points in the train set: 283220, number of used features: 199\n",
      "[LightGBM] [Info] Using GOSS\n"
     ]
    },
    {
     "name": "stderr",
     "output_type": "stream",
     "text": [
      "C:\\Users\\Lenovo\\anaconda3\\lib\\site-packages\\lightgbm\\basic.py:1433: UserWarning: Overriding the parameters from Reference Dataset.\n",
      "  _log_warning('Overriding the parameters from Reference Dataset.')\n",
      "C:\\Users\\Lenovo\\anaconda3\\lib\\site-packages\\lightgbm\\basic.py:1245: UserWarning: categorical_column in param dict is overridden.\n",
      "  _log_warning('{} in param dict is overridden.'.format(cat_alias))\n"
     ]
    },
    {
     "name": "stdout",
     "output_type": "stream",
     "text": [
      "[LightGBM] [Warning] Accuracy may be bad since you didn't explicitly set num_leaves OR 2^max_depth > num_leaves. (num_leaves=31).\n",
      "[LightGBM] [Info] [binary:BoostFromScore]: pavg=0.039969 -> initscore=-3.178863\n",
      "[LightGBM] [Info] Start training from score -3.178863\n",
      "Training until validation scores don't improve for 200 rounds\n",
      "[100]\tvalid_0's auc: 0.8881\n",
      "[200]\tvalid_0's auc: 0.893829\n",
      "[LightGBM] [Warning] No further splits with positive gain, best gain: -inf\n",
      "[300]\tvalid_0's auc: 0.898737\n",
      "[400]\tvalid_0's auc: 0.899786\n",
      "[500]\tvalid_0's auc: 0.900358\n",
      "[600]\tvalid_0's auc: 0.899293\n",
      "[700]\tvalid_0's auc: 0.898645\n",
      "Early stopping, best iteration is:\n",
      "[520]\tvalid_0's auc: 0.900503\n"
     ]
    },
    {
     "name": "stderr",
     "output_type": "stream",
     "text": [
      "C:\\Users\\Lenovo\\anaconda3\\lib\\site-packages\\lightgbm\\engine.py:148: UserWarning: Found `n_estimators` in params. Will use it instead of argument\n",
      "  _log_warning(\"Found `{}` in params. Will use it instead of argument\".format(alias))\n",
      "C:\\Users\\Lenovo\\anaconda3\\lib\\site-packages\\lightgbm\\engine.py:153: UserWarning: Found `early_stopping_rounds` in params. Will use it instead of argument\n",
      "  _log_warning(\"Found `{}` in params. Will use it instead of argument\".format(alias))\n"
     ]
    },
    {
     "name": "stdout",
     "output_type": "stream",
     "text": [
      "[LightGBM] [Warning] Accuracy may be bad since you didn't explicitly set num_leaves OR 2^max_depth > num_leaves. (num_leaves=31).\n",
      "[LightGBM] [Warning] Accuracy may be bad since you didn't explicitly set num_leaves OR 2^max_depth > num_leaves. (num_leaves=31).\n",
      "[LightGBM] [Info] Number of positive: 11144, number of negative: 317016\n",
      "[LightGBM] [Warning] Auto-choosing row-wise multi-threading, the overhead of testing was 0.203097 seconds.\n",
      "You can set `force_row_wise=true` to remove the overhead.\n",
      "And if memory is not enough, you can set `force_col_wise=true`.\n",
      "[LightGBM] [Info] Total Bins 13603\n",
      "[LightGBM] [Info] Number of data points in the train set: 328160, number of used features: 199\n",
      "[LightGBM] [Info] Using GOSS\n"
     ]
    },
    {
     "name": "stderr",
     "output_type": "stream",
     "text": [
      "C:\\Users\\Lenovo\\anaconda3\\lib\\site-packages\\lightgbm\\basic.py:1433: UserWarning: Overriding the parameters from Reference Dataset.\n",
      "  _log_warning('Overriding the parameters from Reference Dataset.')\n",
      "C:\\Users\\Lenovo\\anaconda3\\lib\\site-packages\\lightgbm\\basic.py:1245: UserWarning: categorical_column in param dict is overridden.\n",
      "  _log_warning('{} in param dict is overridden.'.format(cat_alias))\n"
     ]
    },
    {
     "name": "stdout",
     "output_type": "stream",
     "text": [
      "[LightGBM] [Warning] Accuracy may be bad since you didn't explicitly set num_leaves OR 2^max_depth > num_leaves. (num_leaves=31).\n",
      "[LightGBM] [Info] [binary:BoostFromScore]: pavg=0.033959 -> initscore=-3.348051\n",
      "[LightGBM] [Info] Start training from score -3.348051\n",
      "Training until validation scores don't improve for 200 rounds\n",
      "[100]\tvalid_0's auc: 0.913609\n",
      "[200]\tvalid_0's auc: 0.921957\n",
      "[300]\tvalid_0's auc: 0.926104\n",
      "[400]\tvalid_0's auc: 0.927182\n",
      "[500]\tvalid_0's auc: 0.926532\n",
      "[600]\tvalid_0's auc: 0.926467\n",
      "Early stopping, best iteration is:\n",
      "[410]\tvalid_0's auc: 0.927518\n"
     ]
    },
    {
     "name": "stderr",
     "output_type": "stream",
     "text": [
      "C:\\Users\\Lenovo\\anaconda3\\lib\\site-packages\\lightgbm\\engine.py:148: UserWarning: Found `n_estimators` in params. Will use it instead of argument\n",
      "  _log_warning(\"Found `{}` in params. Will use it instead of argument\".format(alias))\n",
      "C:\\Users\\Lenovo\\anaconda3\\lib\\site-packages\\lightgbm\\engine.py:153: UserWarning: Found `early_stopping_rounds` in params. Will use it instead of argument\n",
      "  _log_warning(\"Found `{}` in params. Will use it instead of argument\".format(alias))\n"
     ]
    },
    {
     "name": "stdout",
     "output_type": "stream",
     "text": [
      "[LightGBM] [Warning] Accuracy may be bad since you didn't explicitly set num_leaves OR 2^max_depth > num_leaves. (num_leaves=31).\n",
      "[LightGBM] [Warning] Accuracy may be bad since you didn't explicitly set num_leaves OR 2^max_depth > num_leaves. (num_leaves=31).\n",
      "[LightGBM] [Info] Number of positive: 10997, number of negative: 314373\n",
      "[LightGBM] [Warning] Auto-choosing row-wise multi-threading, the overhead of testing was 0.193661 seconds.\n",
      "You can set `force_row_wise=true` to remove the overhead.\n",
      "And if memory is not enough, you can set `force_col_wise=true`.\n",
      "[LightGBM] [Info] Total Bins 13606\n",
      "[LightGBM] [Info] Number of data points in the train set: 325370, number of used features: 199\n",
      "[LightGBM] [Info] Using GOSS\n"
     ]
    },
    {
     "name": "stderr",
     "output_type": "stream",
     "text": [
      "C:\\Users\\Lenovo\\anaconda3\\lib\\site-packages\\lightgbm\\basic.py:1433: UserWarning: Overriding the parameters from Reference Dataset.\n",
      "  _log_warning('Overriding the parameters from Reference Dataset.')\n",
      "C:\\Users\\Lenovo\\anaconda3\\lib\\site-packages\\lightgbm\\basic.py:1245: UserWarning: categorical_column in param dict is overridden.\n",
      "  _log_warning('{} in param dict is overridden.'.format(cat_alias))\n"
     ]
    },
    {
     "name": "stdout",
     "output_type": "stream",
     "text": [
      "[LightGBM] [Warning] Accuracy may be bad since you didn't explicitly set num_leaves OR 2^max_depth > num_leaves. (num_leaves=31).\n",
      "[LightGBM] [Info] [binary:BoostFromScore]: pavg=0.033798 -> initscore=-3.352958\n",
      "[LightGBM] [Info] Start training from score -3.352958\n",
      "Training until validation scores don't improve for 200 rounds\n",
      "[100]\tvalid_0's auc: 0.915714\n",
      "[200]\tvalid_0's auc: 0.923625\n",
      "[300]\tvalid_0's auc: 0.925695\n",
      "[400]\tvalid_0's auc: 0.926495\n",
      "[500]\tvalid_0's auc: 0.928035\n",
      "[600]\tvalid_0's auc: 0.927942\n",
      "[700]\tvalid_0's auc: 0.928418\n",
      "[800]\tvalid_0's auc: 0.927967\n",
      "Early stopping, best iteration is:\n",
      "[655]\tvalid_0's auc: 0.928902\n"
     ]
    },
    {
     "name": "stderr",
     "output_type": "stream",
     "text": [
      "C:\\Users\\Lenovo\\anaconda3\\lib\\site-packages\\lightgbm\\engine.py:148: UserWarning: Found `n_estimators` in params. Will use it instead of argument\n",
      "  _log_warning(\"Found `{}` in params. Will use it instead of argument\".format(alias))\n",
      "C:\\Users\\Lenovo\\anaconda3\\lib\\site-packages\\lightgbm\\engine.py:153: UserWarning: Found `early_stopping_rounds` in params. Will use it instead of argument\n",
      "  _log_warning(\"Found `{}` in params. Will use it instead of argument\".format(alias))\n"
     ]
    },
    {
     "name": "stdout",
     "output_type": "stream",
     "text": [
      "[LightGBM] [Warning] Accuracy may be bad since you didn't explicitly set num_leaves OR 2^max_depth > num_leaves. (num_leaves=31).\n",
      "[LightGBM] [Warning] Accuracy may be bad since you didn't explicitly set num_leaves OR 2^max_depth > num_leaves. (num_leaves=31).\n",
      "[LightGBM] [Info] Number of positive: 10702, number of negative: 305225\n",
      "[LightGBM] [Warning] Auto-choosing row-wise multi-threading, the overhead of testing was 0.182934 seconds.\n",
      "You can set `force_row_wise=true` to remove the overhead.\n",
      "And if memory is not enough, you can set `force_col_wise=true`.\n",
      "[LightGBM] [Info] Total Bins 13596\n",
      "[LightGBM] [Info] Number of data points in the train set: 315927, number of used features: 199\n",
      "[LightGBM] [Info] Using GOSS\n"
     ]
    },
    {
     "name": "stderr",
     "output_type": "stream",
     "text": [
      "C:\\Users\\Lenovo\\anaconda3\\lib\\site-packages\\lightgbm\\basic.py:1433: UserWarning: Overriding the parameters from Reference Dataset.\n",
      "  _log_warning('Overriding the parameters from Reference Dataset.')\n",
      "C:\\Users\\Lenovo\\anaconda3\\lib\\site-packages\\lightgbm\\basic.py:1245: UserWarning: categorical_column in param dict is overridden.\n",
      "  _log_warning('{} in param dict is overridden.'.format(cat_alias))\n"
     ]
    },
    {
     "name": "stdout",
     "output_type": "stream",
     "text": [
      "[LightGBM] [Warning] Accuracy may be bad since you didn't explicitly set num_leaves OR 2^max_depth > num_leaves. (num_leaves=31).\n",
      "[LightGBM] [Info] [binary:BoostFromScore]: pavg=0.033875 -> initscore=-3.350619\n",
      "[LightGBM] [Info] Start training from score -3.350619\n",
      "Training until validation scores don't improve for 200 rounds\n",
      "[100]\tvalid_0's auc: 0.899586\n",
      "[200]\tvalid_0's auc: 0.905564\n",
      "[300]\tvalid_0's auc: 0.907816\n",
      "[400]\tvalid_0's auc: 0.908592\n",
      "[500]\tvalid_0's auc: 0.908775\n",
      "[600]\tvalid_0's auc: 0.907697\n",
      "[700]\tvalid_0's auc: 0.906415\n",
      "Early stopping, best iteration is:\n",
      "[507]\tvalid_0's auc: 0.909233\n",
      "Fold 0, AUC-ROC: 0.90050\n",
      "Fold 1, AUC-ROC: 0.92752\n",
      "Fold 2, AUC-ROC: 0.92890\n",
      "Fold 3, AUC-ROC: 0.90923\n",
      "CV AUC-ROC: 0.91654\n",
      "Wall time: 3min 51s\n"
     ]
    }
   ],
   "source": [
    "%%time\n",
    "\n",
    "#ограниченим вложенность\n",
    "params = {\n",
    "    'objective': 'binary',\n",
    "    'boosting_type': 'goss',\n",
    "    'metric': 'auc',\n",
    "    'n_jobs': -1,\n",
    "    'n_estimators': 2000,\n",
    "    'seed': 13,\n",
    "    'max_depth': 15,\n",
    "    'early_stopping_rounds': 200,\n",
    "}\n",
    "\n",
    "scores = []\n",
    "\n",
    "feature_importances = pd.DataFrame()\n",
    "feature_importances['feature'] = df_train.columns.drop('isFraud')\n",
    "\n",
    "test_preds = []\n",
    "\n",
    "for i in range(len(folds_idx)):\n",
    "    X_train = df_train.drop(folds_idx[i], axis=0)\n",
    "    y_train = X_train['isFraud'].values\n",
    "    X_val = df_train.iloc[folds_idx[i]]\n",
    "    y_val = X_val['isFraud'].values\n",
    "    X_train = X_train.drop('isFraud', axis=1)\n",
    "    X_val = X_val.drop('isFraud', axis=1)\n",
    "\n",
    "    lgb_train = lgb.Dataset(X_train, y_train)\n",
    "    lgb_eval = lgb.Dataset(X_val, y_val, reference=lgb_train)\n",
    "    lgb_model = lgb.train(params, lgb_train, valid_sets=lgb_eval, verbose_eval=100)\n",
    "    \n",
    "    feature_importances['fold_{}'.format(i)] = lgb_model.feature_importance()\n",
    "\n",
    "    y_pred = lgb_model.predict(X_val)\n",
    "    score_fold = roc_auc_score(y_val, y_pred)\n",
    "    scores.append(score_fold)\n",
    "    y_test_pred = lgb_model.predict(df_test)\n",
    "    test_preds.append(y_test_pred)\n",
    "\n",
    "for i in range(len(scores)):\n",
    "    print('Fold {}, AUC-ROC: {:.5f}'.format(i, scores[i]))\n",
    "print('CV AUC-ROC: {:.5f}'.format(np.mean(scores)))"
   ]
  },
  {
   "cell_type": "code",
   "execution_count": 255,
   "metadata": {},
   "outputs": [
    {
     "name": "stderr",
     "output_type": "stream",
     "text": [
      "C:\\Users\\Lenovo\\anaconda3\\lib\\site-packages\\lightgbm\\engine.py:148: UserWarning: Found `n_estimators` in params. Will use it instead of argument\n",
      "  _log_warning(\"Found `{}` in params. Will use it instead of argument\".format(alias))\n",
      "C:\\Users\\Lenovo\\anaconda3\\lib\\site-packages\\lightgbm\\engine.py:153: UserWarning: Found `early_stopping_rounds` in params. Will use it instead of argument\n",
      "  _log_warning(\"Found `{}` in params. Will use it instead of argument\".format(alias))\n"
     ]
    },
    {
     "name": "stdout",
     "output_type": "stream",
     "text": [
      "[LightGBM] [Warning] Accuracy may be bad since you didn't explicitly set num_leaves OR 2^max_depth > num_leaves. (num_leaves=31).\n",
      "[LightGBM] [Warning] Accuracy may be bad since you didn't explicitly set num_leaves OR 2^max_depth > num_leaves. (num_leaves=31).\n",
      "[LightGBM] [Info] Number of positive: 11320, number of negative: 271900\n",
      "[LightGBM] [Warning] Auto-choosing row-wise multi-threading, the overhead of testing was 0.131899 seconds.\n",
      "You can set `force_row_wise=true` to remove the overhead.\n",
      "And if memory is not enough, you can set `force_col_wise=true`.\n",
      "[LightGBM] [Info] Total Bins 12298\n",
      "[LightGBM] [Info] Number of data points in the train set: 283220, number of used features: 199\n",
      "[LightGBM] [Info] Using GOSS\n"
     ]
    },
    {
     "name": "stderr",
     "output_type": "stream",
     "text": [
      "C:\\Users\\Lenovo\\anaconda3\\lib\\site-packages\\lightgbm\\basic.py:1433: UserWarning: Overriding the parameters from Reference Dataset.\n",
      "  _log_warning('Overriding the parameters from Reference Dataset.')\n",
      "C:\\Users\\Lenovo\\anaconda3\\lib\\site-packages\\lightgbm\\basic.py:1245: UserWarning: categorical_column in param dict is overridden.\n",
      "  _log_warning('{} in param dict is overridden.'.format(cat_alias))\n"
     ]
    },
    {
     "name": "stdout",
     "output_type": "stream",
     "text": [
      "[LightGBM] [Warning] Accuracy may be bad since you didn't explicitly set num_leaves OR 2^max_depth > num_leaves. (num_leaves=31).\n",
      "[LightGBM] [Info] [binary:BoostFromScore]: pavg=0.039969 -> initscore=-3.178863\n",
      "[LightGBM] [Info] Start training from score -3.178863\n",
      "Training until validation scores don't improve for 200 rounds\n",
      "[100]\tvalid_0's auc: 0.886191\n",
      "[200]\tvalid_0's auc: 0.894085\n",
      "[300]\tvalid_0's auc: 0.896519\n",
      "[400]\tvalid_0's auc: 0.898893\n",
      "[500]\tvalid_0's auc: 0.899435\n",
      "[600]\tvalid_0's auc: 0.899211\n",
      "[700]\tvalid_0's auc: 0.898299\n",
      "Early stopping, best iteration is:\n",
      "[504]\tvalid_0's auc: 0.899487\n"
     ]
    },
    {
     "name": "stderr",
     "output_type": "stream",
     "text": [
      "C:\\Users\\Lenovo\\anaconda3\\lib\\site-packages\\lightgbm\\engine.py:148: UserWarning: Found `n_estimators` in params. Will use it instead of argument\n",
      "  _log_warning(\"Found `{}` in params. Will use it instead of argument\".format(alias))\n",
      "C:\\Users\\Lenovo\\anaconda3\\lib\\site-packages\\lightgbm\\engine.py:153: UserWarning: Found `early_stopping_rounds` in params. Will use it instead of argument\n",
      "  _log_warning(\"Found `{}` in params. Will use it instead of argument\".format(alias))\n"
     ]
    },
    {
     "name": "stdout",
     "output_type": "stream",
     "text": [
      "[LightGBM] [Warning] Accuracy may be bad since you didn't explicitly set num_leaves OR 2^max_depth > num_leaves. (num_leaves=31).\n",
      "[LightGBM] [Warning] Accuracy may be bad since you didn't explicitly set num_leaves OR 2^max_depth > num_leaves. (num_leaves=31).\n",
      "[LightGBM] [Info] Number of positive: 11144, number of negative: 317016\n",
      "[LightGBM] [Warning] Auto-choosing row-wise multi-threading, the overhead of testing was 0.195787 seconds.\n",
      "You can set `force_row_wise=true` to remove the overhead.\n",
      "And if memory is not enough, you can set `force_col_wise=true`.\n",
      "[LightGBM] [Info] Total Bins 13619\n",
      "[LightGBM] [Info] Number of data points in the train set: 328160, number of used features: 199\n",
      "[LightGBM] [Info] Using GOSS\n"
     ]
    },
    {
     "name": "stderr",
     "output_type": "stream",
     "text": [
      "C:\\Users\\Lenovo\\anaconda3\\lib\\site-packages\\lightgbm\\basic.py:1433: UserWarning: Overriding the parameters from Reference Dataset.\n",
      "  _log_warning('Overriding the parameters from Reference Dataset.')\n",
      "C:\\Users\\Lenovo\\anaconda3\\lib\\site-packages\\lightgbm\\basic.py:1245: UserWarning: categorical_column in param dict is overridden.\n",
      "  _log_warning('{} in param dict is overridden.'.format(cat_alias))\n"
     ]
    },
    {
     "name": "stdout",
     "output_type": "stream",
     "text": [
      "[LightGBM] [Warning] Accuracy may be bad since you didn't explicitly set num_leaves OR 2^max_depth > num_leaves. (num_leaves=31).\n",
      "[LightGBM] [Info] [binary:BoostFromScore]: pavg=0.033959 -> initscore=-3.348051\n",
      "[LightGBM] [Info] Start training from score -3.348051\n",
      "Training until validation scores don't improve for 200 rounds\n",
      "[100]\tvalid_0's auc: 0.913269\n",
      "[200]\tvalid_0's auc: 0.920797\n",
      "[300]\tvalid_0's auc: 0.924511\n",
      "[400]\tvalid_0's auc: 0.925651\n",
      "[500]\tvalid_0's auc: 0.928091\n",
      "[600]\tvalid_0's auc: 0.9282\n",
      "[700]\tvalid_0's auc: 0.928309\n",
      "[800]\tvalid_0's auc: 0.928586\n",
      "[900]\tvalid_0's auc: 0.929276\n",
      "[1000]\tvalid_0's auc: 0.929285\n",
      "Early stopping, best iteration is:\n",
      "[884]\tvalid_0's auc: 0.929464\n"
     ]
    },
    {
     "name": "stderr",
     "output_type": "stream",
     "text": [
      "C:\\Users\\Lenovo\\anaconda3\\lib\\site-packages\\lightgbm\\engine.py:148: UserWarning: Found `n_estimators` in params. Will use it instead of argument\n",
      "  _log_warning(\"Found `{}` in params. Will use it instead of argument\".format(alias))\n",
      "C:\\Users\\Lenovo\\anaconda3\\lib\\site-packages\\lightgbm\\engine.py:153: UserWarning: Found `early_stopping_rounds` in params. Will use it instead of argument\n",
      "  _log_warning(\"Found `{}` in params. Will use it instead of argument\".format(alias))\n"
     ]
    },
    {
     "name": "stdout",
     "output_type": "stream",
     "text": [
      "[LightGBM] [Warning] Accuracy may be bad since you didn't explicitly set num_leaves OR 2^max_depth > num_leaves. (num_leaves=31).\n",
      "[LightGBM] [Warning] Accuracy may be bad since you didn't explicitly set num_leaves OR 2^max_depth > num_leaves. (num_leaves=31).\n",
      "[LightGBM] [Info] Number of positive: 10997, number of negative: 314373\n",
      "[LightGBM] [Warning] Auto-choosing row-wise multi-threading, the overhead of testing was 0.212774 seconds.\n",
      "You can set `force_row_wise=true` to remove the overhead.\n",
      "And if memory is not enough, you can set `force_col_wise=true`.\n",
      "[LightGBM] [Info] Total Bins 13615\n",
      "[LightGBM] [Info] Number of data points in the train set: 325370, number of used features: 199\n",
      "[LightGBM] [Info] Using GOSS\n"
     ]
    },
    {
     "name": "stderr",
     "output_type": "stream",
     "text": [
      "C:\\Users\\Lenovo\\anaconda3\\lib\\site-packages\\lightgbm\\basic.py:1433: UserWarning: Overriding the parameters from Reference Dataset.\n",
      "  _log_warning('Overriding the parameters from Reference Dataset.')\n",
      "C:\\Users\\Lenovo\\anaconda3\\lib\\site-packages\\lightgbm\\basic.py:1245: UserWarning: categorical_column in param dict is overridden.\n",
      "  _log_warning('{} in param dict is overridden.'.format(cat_alias))\n"
     ]
    },
    {
     "name": "stdout",
     "output_type": "stream",
     "text": [
      "[LightGBM] [Warning] Accuracy may be bad since you didn't explicitly set num_leaves OR 2^max_depth > num_leaves. (num_leaves=31).\n",
      "[LightGBM] [Info] [binary:BoostFromScore]: pavg=0.033798 -> initscore=-3.352958\n",
      "[LightGBM] [Info] Start training from score -3.352958\n",
      "Training until validation scores don't improve for 200 rounds\n",
      "[100]\tvalid_0's auc: 0.91733\n",
      "[200]\tvalid_0's auc: 0.924373\n",
      "[300]\tvalid_0's auc: 0.925994\n",
      "[400]\tvalid_0's auc: 0.927174\n",
      "[500]\tvalid_0's auc: 0.927269\n",
      "[600]\tvalid_0's auc: 0.926189\n",
      "[700]\tvalid_0's auc: 0.926289\n",
      "Early stopping, best iteration is:\n",
      "[520]\tvalid_0's auc: 0.927539\n"
     ]
    },
    {
     "name": "stderr",
     "output_type": "stream",
     "text": [
      "C:\\Users\\Lenovo\\anaconda3\\lib\\site-packages\\lightgbm\\engine.py:148: UserWarning: Found `n_estimators` in params. Will use it instead of argument\n",
      "  _log_warning(\"Found `{}` in params. Will use it instead of argument\".format(alias))\n",
      "C:\\Users\\Lenovo\\anaconda3\\lib\\site-packages\\lightgbm\\engine.py:153: UserWarning: Found `early_stopping_rounds` in params. Will use it instead of argument\n",
      "  _log_warning(\"Found `{}` in params. Will use it instead of argument\".format(alias))\n"
     ]
    },
    {
     "name": "stdout",
     "output_type": "stream",
     "text": [
      "[LightGBM] [Warning] Accuracy may be bad since you didn't explicitly set num_leaves OR 2^max_depth > num_leaves. (num_leaves=31).\n",
      "[LightGBM] [Warning] Accuracy may be bad since you didn't explicitly set num_leaves OR 2^max_depth > num_leaves. (num_leaves=31).\n",
      "[LightGBM] [Info] Number of positive: 10702, number of negative: 305225\n",
      "[LightGBM] [Warning] Auto-choosing row-wise multi-threading, the overhead of testing was 0.205633 seconds.\n",
      "You can set `force_row_wise=true` to remove the overhead.\n",
      "And if memory is not enough, you can set `force_col_wise=true`.\n",
      "[LightGBM] [Info] Total Bins 13651\n",
      "[LightGBM] [Info] Number of data points in the train set: 315927, number of used features: 199\n",
      "[LightGBM] [Info] Using GOSS\n"
     ]
    },
    {
     "name": "stderr",
     "output_type": "stream",
     "text": [
      "C:\\Users\\Lenovo\\anaconda3\\lib\\site-packages\\lightgbm\\basic.py:1433: UserWarning: Overriding the parameters from Reference Dataset.\n",
      "  _log_warning('Overriding the parameters from Reference Dataset.')\n",
      "C:\\Users\\Lenovo\\anaconda3\\lib\\site-packages\\lightgbm\\basic.py:1245: UserWarning: categorical_column in param dict is overridden.\n",
      "  _log_warning('{} in param dict is overridden.'.format(cat_alias))\n"
     ]
    },
    {
     "name": "stdout",
     "output_type": "stream",
     "text": [
      "[LightGBM] [Warning] Accuracy may be bad since you didn't explicitly set num_leaves OR 2^max_depth > num_leaves. (num_leaves=31).\n",
      "[LightGBM] [Info] [binary:BoostFromScore]: pavg=0.033875 -> initscore=-3.350619\n",
      "[LightGBM] [Info] Start training from score -3.350619\n",
      "Training until validation scores don't improve for 200 rounds\n",
      "[100]\tvalid_0's auc: 0.900582\n",
      "[200]\tvalid_0's auc: 0.904753\n",
      "[300]\tvalid_0's auc: 0.90624\n",
      "[400]\tvalid_0's auc: 0.905128\n",
      "[500]\tvalid_0's auc: 0.903993\n",
      "Early stopping, best iteration is:\n",
      "[308]\tvalid_0's auc: 0.906438\n",
      "Fold 0, AUC-ROC: 0.89949\n",
      "Fold 1, AUC-ROC: 0.92946\n",
      "Fold 2, AUC-ROC: 0.92754\n",
      "Fold 3, AUC-ROC: 0.90644\n",
      "CV AUC-ROC: 0.91573\n",
      "Wall time: 4min 8s\n"
     ]
    }
   ],
   "source": [
    "%%time\n",
    "\n",
    "#увеличим seed\n",
    "params = {\n",
    "    'objective': 'binary',\n",
    "    'boosting_type': 'goss',\n",
    "    'metric': 'auc',\n",
    "    'n_jobs': -1,\n",
    "    'n_estimators': 2000,\n",
    "    'seed': 17,\n",
    "    'max_depth': 15,\n",
    "    'early_stopping_rounds': 200,\n",
    "}\n",
    "\n",
    "scores = []\n",
    "\n",
    "feature_importances = pd.DataFrame()\n",
    "feature_importances['feature'] = df_train.columns.drop('isFraud')\n",
    "\n",
    "test_preds = []\n",
    "\n",
    "for i in range(len(folds_idx)):\n",
    "    X_train = df_train.drop(folds_idx[i], axis=0)\n",
    "    y_train = X_train['isFraud'].values\n",
    "    X_val = df_train.iloc[folds_idx[i]]\n",
    "    y_val = X_val['isFraud'].values\n",
    "    X_train = X_train.drop('isFraud', axis=1)\n",
    "    X_val = X_val.drop('isFraud', axis=1)\n",
    "\n",
    "    lgb_train = lgb.Dataset(X_train, y_train)\n",
    "    lgb_eval = lgb.Dataset(X_val, y_val, reference=lgb_train)\n",
    "    lgb_model = lgb.train(params, lgb_train, valid_sets=lgb_eval, verbose_eval=100)\n",
    "    \n",
    "    feature_importances['fold_{}'.format(i)] = lgb_model.feature_importance()\n",
    "\n",
    "    y_pred = lgb_model.predict(X_val)\n",
    "    score_fold = roc_auc_score(y_val, y_pred)\n",
    "    scores.append(score_fold)\n",
    "    y_test_pred = lgb_model.predict(df_test)\n",
    "    test_preds.append(y_test_pred)\n",
    "\n",
    "for i in range(len(scores)):\n",
    "    print('Fold {}, AUC-ROC: {:.5f}'.format(i, scores[i]))\n",
    "print('CV AUC-ROC: {:.5f}'.format(np.mean(scores)))"
   ]
  },
  {
   "cell_type": "code",
   "execution_count": 256,
   "metadata": {},
   "outputs": [
    {
     "data": {
      "text/plain": [
       "(4, 172981)"
      ]
     },
     "execution_count": 256,
     "metadata": {},
     "output_type": "execute_result"
    }
   ],
   "source": [
    "np.array(test_preds).shape"
   ]
  },
  {
   "cell_type": "code",
   "execution_count": 257,
   "metadata": {},
   "outputs": [
    {
     "data": {
      "text/plain": [
       "array([0.00169284, 0.04552791, 0.01532778, ..., 0.00262582, 0.05283921,\n",
       "       0.00594355])"
      ]
     },
     "execution_count": 257,
     "metadata": {},
     "output_type": "execute_result"
    }
   ],
   "source": [
    "final_pred = np.average(test_preds, axis=0)\n",
    "final_pred"
   ]
  },
  {
   "cell_type": "code",
   "execution_count": 258,
   "metadata": {},
   "outputs": [],
   "source": [
    "sample_submission = pd.read_csv('sample_submission.csv')"
   ]
  },
  {
   "cell_type": "code",
   "execution_count": 259,
   "metadata": {},
   "outputs": [
    {
     "data": {
      "text/html": [
       "<div>\n",
       "<style scoped>\n",
       "    .dataframe tbody tr th:only-of-type {\n",
       "        vertical-align: middle;\n",
       "    }\n",
       "\n",
       "    .dataframe tbody tr th {\n",
       "        vertical-align: top;\n",
       "    }\n",
       "\n",
       "    .dataframe thead th {\n",
       "        text-align: right;\n",
       "    }\n",
       "</style>\n",
       "<table border=\"1\" class=\"dataframe\">\n",
       "  <thead>\n",
       "    <tr style=\"text-align: right;\">\n",
       "      <th></th>\n",
       "      <th>TransactionID</th>\n",
       "      <th>isFraud</th>\n",
       "    </tr>\n",
       "  </thead>\n",
       "  <tbody>\n",
       "    <tr>\n",
       "      <th>0</th>\n",
       "      <td>3404559</td>\n",
       "      <td>0.001693</td>\n",
       "    </tr>\n",
       "    <tr>\n",
       "      <th>1</th>\n",
       "      <td>3404560</td>\n",
       "      <td>0.045528</td>\n",
       "    </tr>\n",
       "    <tr>\n",
       "      <th>2</th>\n",
       "      <td>3404561</td>\n",
       "      <td>0.015328</td>\n",
       "    </tr>\n",
       "    <tr>\n",
       "      <th>3</th>\n",
       "      <td>3404562</td>\n",
       "      <td>0.003776</td>\n",
       "    </tr>\n",
       "    <tr>\n",
       "      <th>4</th>\n",
       "      <td>3404563</td>\n",
       "      <td>0.314361</td>\n",
       "    </tr>\n",
       "  </tbody>\n",
       "</table>\n",
       "</div>"
      ],
      "text/plain": [
       "   TransactionID   isFraud\n",
       "0        3404559  0.001693\n",
       "1        3404560  0.045528\n",
       "2        3404561  0.015328\n",
       "3        3404562  0.003776\n",
       "4        3404563  0.314361"
      ]
     },
     "execution_count": 259,
     "metadata": {},
     "output_type": "execute_result"
    }
   ],
   "source": [
    "sub = pd.DataFrame({'TransactionID': sample_submission['TransactionID'], 'isFraud': final_pred})\n",
    "sub.head()"
   ]
  },
  {
   "cell_type": "code",
   "execution_count": 260,
   "metadata": {},
   "outputs": [],
   "source": [
    "sub.to_csv('submission_baseline_1.csv', index=False)"
   ]
  },
  {
   "cell_type": "markdown",
   "metadata": {},
   "source": [
    "## Не все предположения оказались верными (в т.ч. и последнее), но из этого кода было получено моё лучшее решение"
   ]
  },
  {
   "cell_type": "code",
   "execution_count": null,
   "metadata": {},
   "outputs": [],
   "source": []
  }
 ],
 "metadata": {
  "kernelspec": {
   "display_name": "Python 3",
   "language": "python",
   "name": "python3"
  },
  "language_info": {
   "codemirror_mode": {
    "name": "ipython",
    "version": 3
   },
   "file_extension": ".py",
   "mimetype": "text/x-python",
   "name": "python",
   "nbconvert_exporter": "python",
   "pygments_lexer": "ipython3",
   "version": "3.8.5"
  }
 },
 "nbformat": 4,
 "nbformat_minor": 5
}
